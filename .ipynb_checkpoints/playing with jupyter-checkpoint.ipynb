{
 "cells": [
  {
   "cell_type": "code",
   "execution_count": 3,
   "id": "544e3e6f-ad60-4d4c-9ff5-98f0f01894b6",
   "metadata": {},
   "outputs": [],
   "source": [
    "i = 1\n",
    "j = 2\n",
    "k = i + j"
   ]
  },
  {
   "cell_type": "code",
   "execution_count": 5,
   "id": "f79cf0e2-4066-40c9-9ab4-6d66fdd85346",
   "metadata": {},
   "outputs": [
    {
     "data": {
      "text/plain": [
       "3"
      ]
     },
     "execution_count": 5,
     "metadata": {},
     "output_type": "execute_result"
    }
   ],
   "source": [
    "k"
   ]
  },
  {
   "cell_type": "markdown",
   "id": "7f6e08f4-8bca-4c9b-a7a3-464f8367b572",
   "metadata": {},
   "source": [
    "# This is Markdown Heading"
   ]
  },
  {
   "cell_type": "markdown",
   "id": "ca24d487-36b2-4303-8a5e-df8b9272ebc6",
   "metadata": {},
   "source": [
    "**Bold Text**\n",
    "\n",
    "- List 1\n",
    "- List 2\n",
    "- List 3\n",
    "\n",
    "![](https://thumbs.dreamstime.com/z/yummy-sign-25645335.jpg)\n"
   ]
  },
  {
   "cell_type": "code",
   "execution_count": null,
   "id": "e2769e74-4723-425c-9cfc-6d9d9935976d",
   "metadata": {},
   "outputs": [],
   "source": []
  }
 ],
 "metadata": {
  "kernelspec": {
   "display_name": "Python 3",
   "language": "python",
   "name": "python3"
  },
  "language_info": {
   "codemirror_mode": {
    "name": "ipython",
    "version": 3
   },
   "file_extension": ".py",
   "mimetype": "text/x-python",
   "name": "python",
   "nbconvert_exporter": "python",
   "pygments_lexer": "ipython3",
   "version": "3.8.8"
  }
 },
 "nbformat": 4,
 "nbformat_minor": 5
}
