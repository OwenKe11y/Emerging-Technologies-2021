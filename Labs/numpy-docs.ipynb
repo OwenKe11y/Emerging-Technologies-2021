{
 "cells": [
  {
   "cell_type": "markdown",
   "id": "762f20fe-c799-4722-bcea-a518fcdd1f09",
   "metadata": {},
   "source": [
    "# From the NumPy Documentation \n",
    "\n",
    "https://numpy.org/doc/stable/user/quickstart.html"
   ]
  },
  {
   "cell_type": "code",
   "execution_count": 4,
   "id": "414b3b89-52ba-4518-9e53-d53b5860e6af",
   "metadata": {},
   "outputs": [],
   "source": [
    "import numpy as np"
   ]
  },
  {
   "cell_type": "code",
   "execution_count": 8,
   "id": "860a6fc5-d852-4f1a-bdf7-0b9c07c08c37",
   "metadata": {},
   "outputs": [
    {
     "data": {
      "text/plain": [
       "[2, 5, 8, 11]"
      ]
     },
     "execution_count": 8,
     "metadata": {},
     "output_type": "execute_result"
    }
   ],
   "source": [
    "list(range(2, 12,3))"
   ]
  },
  {
   "cell_type": "code",
   "execution_count": 10,
   "id": "85a8d1b0-7b10-433e-9971-30ae364fc876",
   "metadata": {},
   "outputs": [],
   "source": [
    "x = np.arange(1.6, 40.3, 2)"
   ]
  },
  {
   "cell_type": "code",
   "execution_count": 11,
   "id": "86034eab-43ea-47e6-a371-56e89f8e0139",
   "metadata": {},
   "outputs": [
    {
     "data": {
      "text/plain": [
       "array([ 1.6,  3.6,  5.6,  7.6,  9.6, 11.6, 13.6, 15.6, 17.6, 19.6, 21.6,\n",
       "       23.6, 25.6, 27.6, 29.6, 31.6, 33.6, 35.6, 37.6, 39.6])"
      ]
     },
     "execution_count": 11,
     "metadata": {},
     "output_type": "execute_result"
    }
   ],
   "source": [
    "x"
   ]
  },
  {
   "cell_type": "code",
   "execution_count": 12,
   "id": "9ffa1f28-c873-4675-8908-a120b9b96ce4",
   "metadata": {},
   "outputs": [
    {
     "data": {
      "text/plain": [
       "dtype('float64')"
      ]
     },
     "execution_count": 12,
     "metadata": {},
     "output_type": "execute_result"
    }
   ],
   "source": [
    "x.dtype"
   ]
  },
  {
   "cell_type": "code",
   "execution_count": 13,
   "id": "ee5c8f75-e86f-4d14-9fce-06684ab35809",
   "metadata": {},
   "outputs": [
    {
     "data": {
      "text/plain": [
       "(20,)"
      ]
     },
     "execution_count": 13,
     "metadata": {},
     "output_type": "execute_result"
    }
   ],
   "source": [
    "x.shape"
   ]
  },
  {
   "cell_type": "code",
   "execution_count": 5,
   "id": "785ae0f1-e7c2-44a2-878f-394094386f01",
   "metadata": {},
   "outputs": [],
   "source": [
    "a = np.arange(15).reshape(3, 5)"
   ]
  },
  {
   "cell_type": "code",
   "execution_count": 6,
   "id": "2ac72ede-7379-43c1-bcb2-68dfe97b74e3",
   "metadata": {},
   "outputs": [
    {
     "data": {
      "text/plain": [
       "array([[ 0,  1,  2,  3,  4],\n",
       "       [ 5,  6,  7,  8,  9],\n",
       "       [10, 11, 12, 13, 14]])"
      ]
     },
     "execution_count": 6,
     "metadata": {},
     "output_type": "execute_result"
    }
   ],
   "source": [
    "a"
   ]
  },
  {
   "cell_type": "code",
   "execution_count": 7,
   "id": "e1b6a834-45f4-4edf-9d2e-640f23db7b00",
   "metadata": {},
   "outputs": [
    {
     "data": {
      "text/plain": [
       "(3, 5)"
      ]
     },
     "execution_count": 7,
     "metadata": {},
     "output_type": "execute_result"
    }
   ],
   "source": [
    "a.shape"
   ]
  },
  {
   "cell_type": "code",
   "execution_count": 16,
   "id": "3321124e-6ed9-4b71-a1dc-a8cc96dda088",
   "metadata": {},
   "outputs": [
    {
     "data": {
      "text/plain": [
       "array([[ 1.6],\n",
       "       [ 3.6],\n",
       "       [ 5.6],\n",
       "       [ 7.6],\n",
       "       [ 9.6],\n",
       "       [11.6],\n",
       "       [13.6],\n",
       "       [15.6],\n",
       "       [17.6],\n",
       "       [19.6],\n",
       "       [21.6],\n",
       "       [23.6],\n",
       "       [25.6],\n",
       "       [27.6],\n",
       "       [29.6],\n",
       "       [31.6],\n",
       "       [33.6],\n",
       "       [35.6],\n",
       "       [37.6],\n",
       "       [39.6]])"
      ]
     },
     "execution_count": 16,
     "metadata": {},
     "output_type": "execute_result"
    }
   ],
   "source": [
    "x.reshape(-1, 1)"
   ]
  },
  {
   "cell_type": "code",
   "execution_count": 19,
   "id": "c1300f50-5959-4e4a-9a9e-9d3105fbf889",
   "metadata": {},
   "outputs": [
    {
     "data": {
      "text/plain": [
       "array([ 0.1,  0.2,  0.3,  0.4,  0.5,  0.6,  0.7,  0.8,  0.9,  1. ,  1.1,\n",
       "        1.2,  1.3,  1.4,  1.5,  1.6,  1.7,  1.8,  1.9,  2. ,  2.1,  2.2,\n",
       "        2.3,  2.4,  2.5,  2.6,  2.7,  2.8,  2.9,  3. ,  3.1,  3.2,  3.3,\n",
       "        3.4,  3.5,  3.6,  3.7,  3.8,  3.9,  4. ,  4.1,  4.2,  4.3,  4.4,\n",
       "        4.5,  4.6,  4.7,  4.8,  4.9,  5. ,  5.1,  5.2,  5.3,  5.4,  5.5,\n",
       "        5.6,  5.7,  5.8,  5.9,  6. ,  6.1,  6.2,  6.3,  6.4,  6.5,  6.6,\n",
       "        6.7,  6.8,  6.9,  7. ,  7.1,  7.2,  7.3,  7.4,  7.5,  7.6,  7.7,\n",
       "        7.8,  7.9,  8. ,  8.1,  8.2,  8.3,  8.4,  8.5,  8.6,  8.7,  8.8,\n",
       "        8.9,  9. ,  9.1,  9.2,  9.3,  9.4,  9.5,  9.6,  9.7,  9.8,  9.9,\n",
       "       10. , 10.1, 10.2, 10.3, 10.4, 10.5, 10.6, 10.7, 10.8, 10.9, 11. ,\n",
       "       11.1, 11.2, 11.3, 11.4, 11.5, 11.6, 11.7, 11.8, 11.9, 12. , 12.1,\n",
       "       12.2, 12.3, 12.4, 12.5, 12.6, 12.7, 12.8, 12.9, 13. , 13.1, 13.2,\n",
       "       13.3, 13.4, 13.5, 13.6, 13.7, 13.8, 13.9, 14. , 14.1, 14.2, 14.3,\n",
       "       14.4, 14.5, 14.6, 14.7, 14.8, 14.9, 15. , 15.1, 15.2, 15.3, 15.4,\n",
       "       15.5, 15.6, 15.7, 15.8, 15.9, 16. , 16.1, 16.2, 16.3, 16.4, 16.5,\n",
       "       16.6, 16.7, 16.8, 16.9, 17. , 17.1, 17.2, 17.3, 17.4, 17.5, 17.6,\n",
       "       17.7, 17.8, 17.9, 18. , 18.1, 18.2, 18.3, 18.4, 18.5, 18.6, 18.7,\n",
       "       18.8, 18.9, 19. , 19.1, 19.2, 19.3, 19.4, 19.5, 19.6, 19.7, 19.8,\n",
       "       19.9])"
      ]
     },
     "execution_count": 19,
     "metadata": {},
     "output_type": "execute_result"
    }
   ],
   "source": [
    "x = np.arange(0.1, 20.0, 0.1)\n",
    "x"
   ]
  },
  {
   "cell_type": "code",
   "execution_count": 20,
   "id": "6f20c24f-780d-4173-bbd3-41006fa614d2",
   "metadata": {},
   "outputs": [
    {
     "data": {
      "text/plain": [
       "array([1.0000e-02, 4.0000e-02, 9.0000e-02, 1.6000e-01, 2.5000e-01,\n",
       "       3.6000e-01, 4.9000e-01, 6.4000e-01, 8.1000e-01, 1.0000e+00,\n",
       "       1.2100e+00, 1.4400e+00, 1.6900e+00, 1.9600e+00, 2.2500e+00,\n",
       "       2.5600e+00, 2.8900e+00, 3.2400e+00, 3.6100e+00, 4.0000e+00,\n",
       "       4.4100e+00, 4.8400e+00, 5.2900e+00, 5.7600e+00, 6.2500e+00,\n",
       "       6.7600e+00, 7.2900e+00, 7.8400e+00, 8.4100e+00, 9.0000e+00,\n",
       "       9.6100e+00, 1.0240e+01, 1.0890e+01, 1.1560e+01, 1.2250e+01,\n",
       "       1.2960e+01, 1.3690e+01, 1.4440e+01, 1.5210e+01, 1.6000e+01,\n",
       "       1.6810e+01, 1.7640e+01, 1.8490e+01, 1.9360e+01, 2.0250e+01,\n",
       "       2.1160e+01, 2.2090e+01, 2.3040e+01, 2.4010e+01, 2.5000e+01,\n",
       "       2.6010e+01, 2.7040e+01, 2.8090e+01, 2.9160e+01, 3.0250e+01,\n",
       "       3.1360e+01, 3.2490e+01, 3.3640e+01, 3.4810e+01, 3.6000e+01,\n",
       "       3.7210e+01, 3.8440e+01, 3.9690e+01, 4.0960e+01, 4.2250e+01,\n",
       "       4.3560e+01, 4.4890e+01, 4.6240e+01, 4.7610e+01, 4.9000e+01,\n",
       "       5.0410e+01, 5.1840e+01, 5.3290e+01, 5.4760e+01, 5.6250e+01,\n",
       "       5.7760e+01, 5.9290e+01, 6.0840e+01, 6.2410e+01, 6.4000e+01,\n",
       "       6.5610e+01, 6.7240e+01, 6.8890e+01, 7.0560e+01, 7.2250e+01,\n",
       "       7.3960e+01, 7.5690e+01, 7.7440e+01, 7.9210e+01, 8.1000e+01,\n",
       "       8.2810e+01, 8.4640e+01, 8.6490e+01, 8.8360e+01, 9.0250e+01,\n",
       "       9.2160e+01, 9.4090e+01, 9.6040e+01, 9.8010e+01, 1.0000e+02,\n",
       "       1.0201e+02, 1.0404e+02, 1.0609e+02, 1.0816e+02, 1.1025e+02,\n",
       "       1.1236e+02, 1.1449e+02, 1.1664e+02, 1.1881e+02, 1.2100e+02,\n",
       "       1.2321e+02, 1.2544e+02, 1.2769e+02, 1.2996e+02, 1.3225e+02,\n",
       "       1.3456e+02, 1.3689e+02, 1.3924e+02, 1.4161e+02, 1.4400e+02,\n",
       "       1.4641e+02, 1.4884e+02, 1.5129e+02, 1.5376e+02, 1.5625e+02,\n",
       "       1.5876e+02, 1.6129e+02, 1.6384e+02, 1.6641e+02, 1.6900e+02,\n",
       "       1.7161e+02, 1.7424e+02, 1.7689e+02, 1.7956e+02, 1.8225e+02,\n",
       "       1.8496e+02, 1.8769e+02, 1.9044e+02, 1.9321e+02, 1.9600e+02,\n",
       "       1.9881e+02, 2.0164e+02, 2.0449e+02, 2.0736e+02, 2.1025e+02,\n",
       "       2.1316e+02, 2.1609e+02, 2.1904e+02, 2.2201e+02, 2.2500e+02,\n",
       "       2.2801e+02, 2.3104e+02, 2.3409e+02, 2.3716e+02, 2.4025e+02,\n",
       "       2.4336e+02, 2.4649e+02, 2.4964e+02, 2.5281e+02, 2.5600e+02,\n",
       "       2.5921e+02, 2.6244e+02, 2.6569e+02, 2.6896e+02, 2.7225e+02,\n",
       "       2.7556e+02, 2.7889e+02, 2.8224e+02, 2.8561e+02, 2.8900e+02,\n",
       "       2.9241e+02, 2.9584e+02, 2.9929e+02, 3.0276e+02, 3.0625e+02,\n",
       "       3.0976e+02, 3.1329e+02, 3.1684e+02, 3.2041e+02, 3.2400e+02,\n",
       "       3.2761e+02, 3.3124e+02, 3.3489e+02, 3.3856e+02, 3.4225e+02,\n",
       "       3.4596e+02, 3.4969e+02, 3.5344e+02, 3.5721e+02, 3.6100e+02,\n",
       "       3.6481e+02, 3.6864e+02, 3.7249e+02, 3.7636e+02, 3.8025e+02,\n",
       "       3.8416e+02, 3.8809e+02, 3.9204e+02, 3.9601e+02])"
      ]
     },
     "execution_count": 20,
     "metadata": {},
     "output_type": "execute_result"
    }
   ],
   "source": [
    "y = x**2\n",
    "y"
   ]
  },
  {
   "cell_type": "code",
   "execution_count": 22,
   "id": "fc0d9dd5-2353-4016-a712-e05b55be2edf",
   "metadata": {},
   "outputs": [
    {
     "data": {
      "text/plain": [
       "array([ 0. ,  0.1,  0.2,  0.3,  0.4,  0.5,  0.6,  0.7,  0.8,  0.9,  1. ,\n",
       "        1.1,  1.2,  1.3,  1.4,  1.5,  1.6,  1.7,  1.8,  1.9,  2. ,  2.1,\n",
       "        2.2,  2.3,  2.4,  2.5,  2.6,  2.7,  2.8,  2.9,  3. ,  3.1,  3.2,\n",
       "        3.3,  3.4,  3.5,  3.6,  3.7,  3.8,  3.9,  4. ,  4.1,  4.2,  4.3,\n",
       "        4.4,  4.5,  4.6,  4.7,  4.8,  4.9,  5. ,  5.1,  5.2,  5.3,  5.4,\n",
       "        5.5,  5.6,  5.7,  5.8,  5.9,  6. ,  6.1,  6.2,  6.3,  6.4,  6.5,\n",
       "        6.6,  6.7,  6.8,  6.9,  7. ,  7.1,  7.2,  7.3,  7.4,  7.5,  7.6,\n",
       "        7.7,  7.8,  7.9,  8. ,  8.1,  8.2,  8.3,  8.4,  8.5,  8.6,  8.7,\n",
       "        8.8,  8.9,  9. ,  9.1,  9.2,  9.3,  9.4,  9.5,  9.6,  9.7,  9.8,\n",
       "        9.9, 10. ])"
      ]
     },
     "execution_count": 22,
     "metadata": {},
     "output_type": "execute_result"
    }
   ],
   "source": [
    "np.linspace(0.0, 10.0, 101)"
   ]
  },
  {
   "cell_type": "code",
   "execution_count": 23,
   "id": "b340bd3b-7791-40a9-a9d4-df787a1c3904",
   "metadata": {},
   "outputs": [
    {
     "data": {
      "text/plain": [
       "array([[0., 0., 0.],\n",
       "       [0., 0., 0.],\n",
       "       [0., 0., 0.]])"
      ]
     },
     "execution_count": 23,
     "metadata": {},
     "output_type": "execute_result"
    }
   ],
   "source": [
    "np.zeros((3,3))"
   ]
  },
  {
   "cell_type": "code",
   "execution_count": 24,
   "id": "f53d36f2-730e-499a-a2da-5b51f0f39bab",
   "metadata": {},
   "outputs": [
    {
     "data": {
      "text/plain": [
       "array([[1., 1., 1., 1.],\n",
       "       [1., 1., 1., 1.],\n",
       "       [1., 1., 1., 1.]])"
      ]
     },
     "execution_count": 24,
     "metadata": {},
     "output_type": "execute_result"
    }
   ],
   "source": [
    "np.ones((3, 4))"
   ]
  },
  {
   "cell_type": "code",
   "execution_count": 25,
   "id": "e2dd3f56-f723-42bb-9ce8-a7c924ac0e7a",
   "metadata": {},
   "outputs": [],
   "source": [
    "I = np.eye(3)"
   ]
  },
  {
   "cell_type": "code",
   "execution_count": 26,
   "id": "efdb6fd5-11ae-4489-9f1f-f7bc428e82f5",
   "metadata": {},
   "outputs": [
    {
     "data": {
      "text/plain": [
       "dtype('float64')"
      ]
     },
     "execution_count": 26,
     "metadata": {},
     "output_type": "execute_result"
    }
   ],
   "source": [
    "I.dtype"
   ]
  },
  {
   "cell_type": "code",
   "execution_count": 27,
   "id": "368d5c8e-b6f0-4224-9a94-bb1b3bf7b85e",
   "metadata": {},
   "outputs": [
    {
     "data": {
      "text/plain": [
       "array([[1, 0, 0],\n",
       "       [0, 1, 0],\n",
       "       [0, 0, 1]], dtype=int64)"
      ]
     },
     "execution_count": 27,
     "metadata": {},
     "output_type": "execute_result"
    }
   ],
   "source": [
    "I.astype('int64')"
   ]
  },
  {
   "cell_type": "code",
   "execution_count": 30,
   "id": "fc9cedac-a6b1-460d-be48-855e314a1156",
   "metadata": {},
   "outputs": [
    {
     "data": {
      "text/plain": [
       "array([0., 0., 1.])"
      ]
     },
     "execution_count": 30,
     "metadata": {},
     "output_type": "execute_result"
    }
   ],
   "source": [
    "I[2]"
   ]
  },
  {
   "cell_type": "code",
   "execution_count": null,
   "id": "c8a6f2bc-dcd5-471c-bf44-abd7f8d79d5f",
   "metadata": {},
   "outputs": [],
   "source": []
  },
  {
   "cell_type": "markdown",
   "id": "d80b253d-12e3-4c0b-b96f-c8c80862a11d",
   "metadata": {},
   "source": [
    "# End Cell"
   ]
  }
 ],
 "metadata": {
  "kernelspec": {
   "display_name": "Python 3",
   "language": "python",
   "name": "python3"
  },
  "language_info": {
   "codemirror_mode": {
    "name": "ipython",
    "version": 3
   },
   "file_extension": ".py",
   "mimetype": "text/x-python",
   "name": "python",
   "nbconvert_exporter": "python",
   "pygments_lexer": "ipython3",
   "version": "3.8.8"
  }
 },
 "nbformat": 4,
 "nbformat_minor": 5
}
