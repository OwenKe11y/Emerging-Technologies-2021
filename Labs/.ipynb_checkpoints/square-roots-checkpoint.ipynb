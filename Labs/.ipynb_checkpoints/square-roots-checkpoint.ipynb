{
 "cells": [
  {
   "cell_type": "markdown",
   "id": "11fd660e-97b1-4535-a52b-f60bb6190d08",
   "metadata": {},
   "source": [
    "# Square Roots\n",
    "***"
   ]
  },
  {
   "cell_type": "code",
   "execution_count": 2,
   "id": "b957a88b-11ff-4726-9e31-e8d684cc159d",
   "metadata": {},
   "outputs": [],
   "source": [
    "x = 255"
   ]
  },
  {
   "cell_type": "code",
   "execution_count": 3,
   "id": "996033aa-44ed-41a2-ab65-96cddbe43829",
   "metadata": {},
   "outputs": [],
   "source": [
    "# Loop through values (i) from 0 to x-1.\n",
    "for i in range(x - 1):\n",
    "    # Check if i squared is equal to x.\n",
    "    if (i**2) - x == 0:\n",
    "        # Print the square root.\n",
    "        print(i)\n",
    "        # Finish.\n",
    "        break"
   ]
  },
  {
   "cell_type": "code",
   "execution_count": null,
   "id": "419b2e5c-bf7a-4fc7-8729-1f6c3a7252ef",
   "metadata": {},
   "outputs": [],
   "source": []
  },
  {
   "cell_type": "code",
   "execution_count": null,
   "id": "b9f0a727-206b-43cd-bf1c-85d9d324d516",
   "metadata": {},
   "outputs": [],
   "source": []
  },
  {
   "cell_type": "code",
   "execution_count": null,
   "id": "9f2bfa4b-bc30-4d9e-8f26-13ee171d1030",
   "metadata": {},
   "outputs": [],
   "source": []
  },
  {
   "cell_type": "code",
   "execution_count": null,
   "id": "ff6f0a49-a157-4d23-bd19-13f17261bd41",
   "metadata": {},
   "outputs": [],
   "source": []
  },
  {
   "cell_type": "code",
   "execution_count": null,
   "id": "91a0f5d2-fb3b-40a5-8294-26ef5112f68e",
   "metadata": {},
   "outputs": [],
   "source": []
  },
  {
   "cell_type": "code",
   "execution_count": null,
   "id": "73e9fc24-a72f-4a2a-8872-a26e4c38ac0b",
   "metadata": {},
   "outputs": [],
   "source": []
  },
  {
   "cell_type": "code",
   "execution_count": null,
   "id": "0d50ba6e-b0e5-44c2-a2e2-fa4cd7480222",
   "metadata": {},
   "outputs": [],
   "source": []
  },
  {
   "cell_type": "code",
   "execution_count": null,
   "id": "0bb9aac4-65c2-423d-93be-3bc0e8154d47",
   "metadata": {},
   "outputs": [],
   "source": []
  },
  {
   "cell_type": "code",
   "execution_count": null,
   "id": "c9bd29e9-f31f-4757-a9b6-5472d329ef5b",
   "metadata": {},
   "outputs": [],
   "source": []
  }
 ],
 "metadata": {
  "kernelspec": {
   "display_name": "Python 3",
   "language": "python",
   "name": "python3"
  },
  "language_info": {
   "codemirror_mode": {
    "name": "ipython",
    "version": 3
   },
   "file_extension": ".py",
   "mimetype": "text/x-python",
   "name": "python",
   "nbconvert_exporter": "python",
   "pygments_lexer": "ipython3",
   "version": "3.8.8"
  }
 },
 "nbformat": 4,
 "nbformat_minor": 5
}
