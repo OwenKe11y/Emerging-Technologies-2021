{
 "cells": [
  {
   "cell_type": "markdown",
   "id": "2e1a570a-1e8d-48c8-8eb9-2ecf9b24f39a",
   "metadata": {},
   "source": [
    "# Scikit-Learn Tutorial Examples\n",
    "\n",
    "***\n",
    "\n",
    "https://scikit-learn.org/stable/tutorial/index.html"
   ]
  },
  {
   "cell_type": "code",
   "execution_count": 1,
   "id": "566d27aa-f5b0-43db-be6b-04d706e7fd28",
   "metadata": {},
   "outputs": [],
   "source": [
    "import sklearn.datasets as datasets "
   ]
  },
  {
   "cell_type": "code",
   "execution_count": null,
   "id": "c05d6864-2b6b-4ca0-9658-de982204cbad",
   "metadata": {},
   "outputs": [],
   "source": []
  },
  {
   "cell_type": "code",
   "execution_count": null,
   "id": "5039f9d6-999d-4dec-b985-1bbd3388b17c",
   "metadata": {},
   "outputs": [],
   "source": []
  },
  {
   "cell_type": "code",
   "execution_count": null,
   "id": "4c849df3-f1b4-4b3d-bc6f-4998c8717d49",
   "metadata": {},
   "outputs": [],
   "source": []
  },
  {
   "cell_type": "code",
   "execution_count": null,
   "id": "ea1b562c-1577-4243-8981-8d0bc9e709f2",
   "metadata": {},
   "outputs": [],
   "source": []
  },
  {
   "cell_type": "code",
   "execution_count": null,
   "id": "32295667-cc5e-41de-b8dc-0505470f1942",
   "metadata": {},
   "outputs": [],
   "source": []
  },
  {
   "cell_type": "code",
   "execution_count": null,
   "id": "077395a5-132d-4981-8508-0788aea42270",
   "metadata": {},
   "outputs": [],
   "source": []
  },
  {
   "cell_type": "code",
   "execution_count": null,
   "id": "686ec25d-4614-4bd6-97fd-d686b6f1acc5",
   "metadata": {},
   "outputs": [],
   "source": []
  },
  {
   "cell_type": "code",
   "execution_count": null,
   "id": "a96f7bc0-b986-49f1-9ebf-5e2d4cadda27",
   "metadata": {},
   "outputs": [],
   "source": []
  }
 ],
 "metadata": {
  "kernelspec": {
   "display_name": "Python 3",
   "language": "python",
   "name": "python3"
  },
  "language_info": {
   "codemirror_mode": {
    "name": "ipython",
    "version": 3
   },
   "file_extension": ".py",
   "mimetype": "text/x-python",
   "name": "python",
   "nbconvert_exporter": "python",
   "pygments_lexer": "ipython3",
   "version": "3.8.8"
  }
 },
 "nbformat": 4,
 "nbformat_minor": 5
}
