{
 "cells": [
  {
   "cell_type": "markdown",
   "id": "fce38edc-65d7-4fdb-be6f-49c26a0c2406",
   "metadata": {},
   "source": [
    "# Complex Numbers \n",
    "***\n",
    "\n"
   ]
  },
  {
   "cell_type": "markdown",
   "id": "dbe1c2e3-81a6-47f1-b8c7-faaea6dcc575",
   "metadata": {},
   "source": [
    "![Complex Numbers examples](img/complexNumbers.png)"
   ]
  },
  {
   "cell_type": "markdown",
   "id": "9db0b64e-6332-4b0e-9a01-5960995c056c",
   "metadata": {},
   "source": [
    "## Set up\n",
    "***"
   ]
  },
  {
   "cell_type": "code",
   "execution_count": 1,
   "id": "ee3c75fe-adb2-417d-97d7-84491d51f62d",
   "metadata": {},
   "outputs": [],
   "source": [
    "# Plotting.\n",
    "import matplotlib.pyplot as plt\n",
    "\n",
    "# Numerical arrays.\n",
    "import numpy as np"
   ]
  },
  {
   "cell_type": "code",
   "execution_count": 2,
   "id": "590518ab-d2a9-4b97-bfd6-a39c1acac47a",
   "metadata": {},
   "outputs": [],
   "source": [
    "# Plots size.\n",
    "plt.rcParams['figure.figsize'] = (20, 10)\n",
    "# Plot style.\n",
    "plt.style.use('seaborn-whitegrid')"
   ]
  },
  {
   "cell_type": "markdown",
   "id": "aac7fb70-df7e-41f6-b12e-3d9f5f6e4346",
   "metadata": {},
   "source": [
    "## Built-In Python \n",
    "***"
   ]
  },
  {
   "cell_type": "code",
   "execution_count": 3,
   "id": "833d108d-0156-40ce-b22d-a634773e9bcb",
   "metadata": {},
   "outputs": [
    {
     "data": {
      "text/plain": [
       "(-1+0j)"
      ]
     },
     "execution_count": 3,
     "metadata": {},
     "output_type": "execute_result"
    }
   ],
   "source": [
    "1.0j * 1.0j"
   ]
  },
  {
   "cell_type": "code",
   "execution_count": 4,
   "id": "4a29e7e1-c919-4720-a597-273a86b9cbc7",
   "metadata": {},
   "outputs": [
    {
     "data": {
      "text/plain": [
       "(-2+5j)"
      ]
     },
     "execution_count": 4,
     "metadata": {},
     "output_type": "execute_result"
    }
   ],
   "source": [
    "x = -2.0 + 5.0j\n",
    "x"
   ]
  },
  {
   "cell_type": "code",
   "execution_count": 5,
   "id": "2857ef9e-1ca3-4ff1-b76f-5a7edafcf613",
   "metadata": {},
   "outputs": [
    {
     "data": {
      "text/plain": [
       "(-21-20j)"
      ]
     },
     "execution_count": 5,
     "metadata": {},
     "output_type": "execute_result"
    }
   ],
   "source": [
    "x**2"
   ]
  },
  {
   "cell_type": "code",
   "execution_count": 6,
   "id": "b825457f-338a-44d6-9bde-9c22556601ac",
   "metadata": {},
   "outputs": [
    {
     "data": {
      "text/plain": [
       "(3+1.5j)"
      ]
     },
     "execution_count": 6,
     "metadata": {},
     "output_type": "execute_result"
    }
   ],
   "source": [
    "y = 3.0 + 1.5j\n",
    "y"
   ]
  },
  {
   "cell_type": "code",
   "execution_count": 7,
   "id": "9081cbed-a968-43a3-913d-0bdd9c126c46",
   "metadata": {},
   "outputs": [
    {
     "data": {
      "text/plain": [
       "(1+6.5j)"
      ]
     },
     "execution_count": 7,
     "metadata": {},
     "output_type": "execute_result"
    }
   ],
   "source": [
    "x + y"
   ]
  },
  {
   "cell_type": "code",
   "execution_count": 8,
   "id": "5a2361a2-6a11-490e-ac73-01e0d5c73da1",
   "metadata": {},
   "outputs": [
    {
     "data": {
      "text/plain": [
       "(-13.5+12j)"
      ]
     },
     "execution_count": 8,
     "metadata": {},
     "output_type": "execute_result"
    }
   ],
   "source": [
    "x * y"
   ]
  },
  {
   "cell_type": "markdown",
   "id": "e4c95680-b5c1-4599-9adb-d0f254f192ce",
   "metadata": {},
   "source": [
    "## As pairs \n",
    "***"
   ]
  },
  {
   "cell_type": "code",
   "execution_count": 9,
   "id": "e2e0e9c4-20d6-443c-a44e-9f2177916cbd",
   "metadata": {},
   "outputs": [
    {
     "data": {
      "text/plain": [
       "[-2.0, 5.0]"
      ]
     },
     "execution_count": 9,
     "metadata": {},
     "output_type": "execute_result"
    }
   ],
   "source": [
    "x = [-2.0, 5.0]\n",
    "x"
   ]
  },
  {
   "cell_type": "code",
   "execution_count": 10,
   "id": "8fd8a937-9cec-4697-b7b7-ea9059cb83c9",
   "metadata": {},
   "outputs": [
    {
     "data": {
      "text/plain": [
       "[3.0, 1.5]"
      ]
     },
     "execution_count": 10,
     "metadata": {},
     "output_type": "execute_result"
    }
   ],
   "source": [
    "y = [3.0, 1.5]\n",
    "y"
   ]
  },
  {
   "cell_type": "code",
   "execution_count": 11,
   "id": "fcfb32a1-5de5-4a80-8451-d96bbbc0c966",
   "metadata": {},
   "outputs": [],
   "source": [
    "def add(u, v):\n",
    "    return [u[0] + v[0], u[1] + v[1]]"
   ]
  },
  {
   "cell_type": "code",
   "execution_count": 12,
   "id": "ba577b91-7240-45ba-904c-9e6817ade3d3",
   "metadata": {},
   "outputs": [
    {
     "data": {
      "text/plain": [
       "[1.0, 6.5]"
      ]
     },
     "execution_count": 12,
     "metadata": {},
     "output_type": "execute_result"
    }
   ],
   "source": [
    "add(x, y)"
   ]
  },
  {
   "cell_type": "code",
   "execution_count": 13,
   "id": "5beae884-07ec-41c4-af81-42b02800f42b",
   "metadata": {},
   "outputs": [],
   "source": [
    "def mult(u, v):\n",
    "    a, b = u\n",
    "    c, d = v\n",
    "    return [(a * c) - (b * d), (b * c) + (a * d)]"
   ]
  },
  {
   "cell_type": "code",
   "execution_count": 14,
   "id": "06959ab5-f418-42aa-91f3-94b39e1c3bb8",
   "metadata": {},
   "outputs": [
    {
     "data": {
      "text/plain": [
       "[-13.5, 12.0]"
      ]
     },
     "execution_count": 14,
     "metadata": {},
     "output_type": "execute_result"
    }
   ],
   "source": [
    "mult(x, y)"
   ]
  },
  {
   "cell_type": "markdown",
   "id": "abebbfc4-15c8-4648-ae9e-375a1c2bf266",
   "metadata": {},
   "source": [
    "## Origins\n",
    "***"
   ]
  },
  {
   "cell_type": "markdown",
   "id": "384157be-ca00-4da5-aeb3-27d5dd10cd51",
   "metadata": {},
   "source": [
    "![Equations](img/complexEquations.png)"
   ]
  },
  {
   "cell_type": "code",
   "execution_count": 15,
   "id": "e32c53ee-8163-4128-8a94-e76094364418",
   "metadata": {},
   "outputs": [],
   "source": [
    "# A function that returns a function.\n",
    "class quadratic:\n",
    "    def __init__(self, a, b, c):\n",
    "        self.a = a\n",
    "        self.b = b\n",
    "        self.c = c\n",
    "\n",
    "    def __call__(self, x):\n",
    "        return self.a * x**2 + self.b * x + self.c"
   ]
  },
  {
   "cell_type": "code",
   "execution_count": 16,
   "id": "0ffe6470-f60f-444a-8d7d-8ea30b7fad89",
   "metadata": {},
   "outputs": [
    {
     "data": {
      "text/plain": [
       "<__main__.quadratic at 0x200e46e6970>"
      ]
     },
     "execution_count": 16,
     "metadata": {},
     "output_type": "execute_result"
    }
   ],
   "source": [
    "p = quadratic(a=1.0, b=-5.0, c=6.0)\n",
    "p"
   ]
  },
  {
   "cell_type": "code",
   "execution_count": 17,
   "id": "a84c6608-692a-4e36-b2e7-d025c1cbfe98",
   "metadata": {},
   "outputs": [
    {
     "data": {
      "text/plain": [
       "2.0"
      ]
     },
     "execution_count": 17,
     "metadata": {},
     "output_type": "execute_result"
    }
   ],
   "source": [
    "p(1.0)"
   ]
  },
  {
   "cell_type": "code",
   "execution_count": 18,
   "id": "71f2302a-9272-4043-8461-07964ddf9c06",
   "metadata": {},
   "outputs": [],
   "source": [
    "# Create an array of 1000 evenly-spaced values between 0 and 5.\n",
    "x = np.linspace(0.0, 5.0, 1000)"
   ]
  },
  {
   "cell_type": "code",
   "execution_count": 19,
   "id": "4253cfc8-9a52-4f4e-9b3b-04e048f110d7",
   "metadata": {},
   "outputs": [
    {
     "data": {
      "text/plain": [
       "<matplotlib.lines.Line2D at 0x200e785d3a0>"
      ]
     },
     "execution_count": 19,
     "metadata": {},
     "output_type": "execute_result"
    },
    {
     "data": {
      "image/png": "[encoded data removed]",
      "text/plain": [
       "<Figure size 1440x720 with 1 Axes>"
      ]
     },
     "metadata": {},
     "output_type": "display_data"
    }
   ],
   "source": [
    "# Plot p(x).\n",
    "fig, ax = plt.subplots()\n",
    "ax.plot(x, p(x))\n",
    "ax.axhline(y=0, color='k')\n",
    "ax.axvline(x=0, color='k')"
   ]
  },
  {
   "cell_type": "code",
   "execution_count": 20,
   "id": "744f8601-645e-41c2-9a7d-3b937be8d3d5",
   "metadata": {},
   "outputs": [],
   "source": [
    "# Solve with the formula.\n",
    "def solve(p):\n",
    "    a, b, c = p.a, p.b, p.c\n",
    "    x1 = (-b - (b**2 - 4 * a * c)**0.5) / (2 * a)\n",
    "    x2 = (-b + (b**2 - 4 * a * c)**0.5) / (2 * a)\n",
    "    return [x1, x2]"
   ]
  },
  {
   "cell_type": "code",
   "execution_count": 21,
   "id": "f1432242-734d-4363-94e1-39c31733124b",
   "metadata": {},
   "outputs": [
    {
     "data": {
      "text/plain": [
       "[2.0, 3.0]"
      ]
     },
     "execution_count": 21,
     "metadata": {},
     "output_type": "execute_result"
    }
   ],
   "source": [
    "solve(p)"
   ]
  },
  {
   "cell_type": "markdown",
   "id": "9a9b8d03-99d5-4549-bcd9-695ed54e4304",
   "metadata": {},
   "source": [
    "## Not hitting X\n",
    "***"
   ]
  },
  {
   "cell_type": "markdown",
   "id": "2a616475-4416-45ac-b53a-5040350df150",
   "metadata": {},
   "source": [
    "![Not hitting X](img/notHittingX.png)"
   ]
  },
  {
   "cell_type": "code",
   "execution_count": 22,
   "id": "70cb10b4-56b0-4787-9b3c-b4bd7688e548",
   "metadata": {},
   "outputs": [],
   "source": [
    "p = quadratic(a=1.0, b=0.0, c=1.0)"
   ]
  },
  {
   "cell_type": "code",
   "execution_count": 23,
   "id": "c3077e65-4083-41a6-a1ac-4ad9cc29bac3",
   "metadata": {},
   "outputs": [],
   "source": [
    "x = np.linspace(-2.0, 2.0, 1000)"
   ]
  },
  {
   "cell_type": "code",
   "execution_count": 24,
   "id": "0b505192-553d-4ce1-a00c-f3a374257ff9",
   "metadata": {},
   "outputs": [
    {
     "data": {
      "text/plain": [
       "<matplotlib.lines.Line2D at 0x200e78c4b20>"
      ]
     },
     "execution_count": 24,
     "metadata": {},
     "output_type": "execute_result"
    },
    {
     "data": {
      "image/png": "[encoded data removed]",
      "text/plain": [
       "<Figure size 1440x720 with 1 Axes>"
      ]
     },
     "metadata": {},
     "output_type": "display_data"
    }
   ],
   "source": [
    "fig, ax = plt.subplots()\n",
    "ax.plot(x, p(x))\n",
    "ax.axhline(y=0, color='k')\n",
    "ax.axvline(x=0, color='k')"
   ]
  },
  {
   "cell_type": "code",
   "execution_count": null,
   "id": "899fc92f-164c-4655-95d0-4a6410b0857e",
   "metadata": {},
   "outputs": [],
   "source": []
  },
  {
   "cell_type": "code",
   "execution_count": null,
   "id": "52b830f8-b4cb-4b9b-8678-a43d57711d4b",
   "metadata": {},
   "outputs": [],
   "source": []
  },
  {
   "cell_type": "code",
   "execution_count": null,
   "id": "5c5d8607-4d94-41fa-9ab4-64d9d66c0699",
   "metadata": {},
   "outputs": [],
   "source": []
  },
  {
   "cell_type": "code",
   "execution_count": null,
   "id": "7947684d-52e2-4283-8bb3-3be955d19e03",
   "metadata": {},
   "outputs": [],
   "source": []
  },
  {
   "cell_type": "code",
   "execution_count": null,
   "id": "d81049a0-2ca2-4eaa-91cd-bd01a9a5a8f3",
   "metadata": {},
   "outputs": [],
   "source": []
  },
  {
   "cell_type": "code",
   "execution_count": null,
   "id": "0d0165b1-0afa-48f6-b034-4c09e48e43f6",
   "metadata": {},
   "outputs": [],
   "source": []
  },
  {
   "cell_type": "code",
   "execution_count": null,
   "id": "5a1a8736-8077-4929-babc-75e4245b5c45",
   "metadata": {},
   "outputs": [],
   "source": []
  },
  {
   "cell_type": "code",
   "execution_count": null,
   "id": "f5cda08b-87d6-4ba9-9499-7294d79c0445",
   "metadata": {},
   "outputs": [],
   "source": []
  },
  {
   "cell_type": "code",
   "execution_count": null,
   "id": "9b63a045-6b9c-4edb-b633-66505efe905f",
   "metadata": {},
   "outputs": [],
   "source": []
  }
 ],
 "metadata": {
  "kernelspec": {
   "display_name": "Python 3",
   "language": "python",
   "name": "python3"
  },
  "language_info": {
   "codemirror_mode": {
    "name": "ipython",
    "version": 3
   },
   "file_extension": ".py",
   "mimetype": "text/x-python",
   "name": "python",
   "nbconvert_exporter": "python",
   "pygments_lexer": "ipython3",
   "version": "3.8.8"
  }
 },
 "nbformat": 4,
 "nbformat_minor": 5
}
