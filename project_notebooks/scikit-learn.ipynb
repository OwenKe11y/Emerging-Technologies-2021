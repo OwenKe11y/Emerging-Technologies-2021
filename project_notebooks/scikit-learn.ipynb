{
 "cells": [
  {
   "cell_type": "markdown",
   "id": "de159f2c-4281-4a4c-88a5-b8405948babc",
   "metadata": {},
   "source": [
    "![Scikit-Learn logo](img/scikit-learn-logo.png)\n",
    "\n",
    "# <b>Introduction</b>\n",
    "\n",
    " \n",
    "***"
   ]
  },
  {
   "cell_type": "markdown",
   "id": "9e78b50a-12e0-4235-92ac-8115f424e274",
   "metadata": {},
   "source": [
    "This notebooks purpose is to provide a clear and concise overview of the scikit-learn Python library as well as demonstrations of at least three interesting scikit-learn algorithms. Namely the **Regression**, **Classification** and **Clustering** algorithms. These algorithms will also be accompanied by appropriate plots and other visualisations. \n",
    "\n",
    "In accordance with [GMIT's plagarism policy](https://www.gmit.ie/sites/default/files/public/general/docs/policy-plagiarism-2019.pdf), all work compiled in this notebook is owned by the author and the creators of the respective algorithms. All sources and aids used have been indicated as such. All texts either quoted directly or paraphrased have been indicated by in-text citations."
   ]
  },
  {
   "cell_type": "markdown",
   "id": "dbaa108d-576c-4401-9e18-83cc7116b5fa",
   "metadata": {},
   "source": [
    "## Overview - What is Scikit-Learn?\n",
    "***"
   ]
  },
  {
   "cell_type": "markdown",
   "id": "23f0c6fd-b2a2-49cc-93eb-ce411c02c56e",
   "metadata": {},
   "source": [
    "Scikit-learn provides a range of supervised and unsupervised learning algorithms via a consistent interface in Python[[1]](#references). It is built upon the SciPy library which means it includes many recognisable Python libraries which are included in the SciPy library such as:\n",
    "* <b>NumPy</b>: Base n-dimensional array package\n",
    "* <b>SciPy</b>: Fundamental library for scientific computing\n",
    "* <b>Matplotlib</b>: Comprehensive 2D/3D plotting\n",
    "* <b>IPython</b>: Enhanced interactive console\n",
    "* <b>Sympy</b>: Symbolic mathematics\n",
    "* <b>Pandas</b>: Data structures and analysis\n"
   ]
  },
  {
   "cell_type": "markdown",
   "id": "a9bd577a-fae5-47d3-90fd-30ecb725787e",
   "metadata": {},
   "source": [
    "The library is focused on modeling data. It is not focused on loading, manipulating and summarizing data. it is described on the offical SciKit page as[[2]](#references): \n",
    "\n",
    "    \"Simple and efficient tools for predictive data analysis\n",
    "    Accessible to everybody, and reusable in various contexts\n",
    "    Built on NumPy, SciPy, and matplotlib\n",
    "    Open source, commercially usable - BSD license\"\n",
    "    \n",
    "\n",
    "\n"
   ]
  },
  {
   "cell_type": "markdown",
   "id": "54d09b5e-3ec2-4cd3-9ae5-d927df111262",
   "metadata": {},
   "source": [
    "# <b>Interesting Algorithms</b>\n",
    "***"
   ]
  },
  {
   "cell_type": "markdown",
   "id": "f8a4ba07-3a20-484b-8990-1cb4df462706",
   "metadata": {},
   "source": [
    "<img src=\"img/netflix.png\" alt=\"Comparison\" style=\"width: 1400px; height: 300px\"/><br>\n",
    "\n",
    "## **Linear Regression** - Predicting the stock price of Netflix \n",
    "\n",
    "Dataset taken from: **[here](https://finance.yahoo.com/quote/nflx/history/?guccounter=1&guce_referrer=aHR0cHM6Ly93d3cuZ29vZ2xlLmNvbS8&guce_referrer_sig=AQAAAFA2PMvQkzsotUIvyr7kLpidRReghKPM7ESGIrULUHoqhfacsISd_Q6LHVzqr67qD9_I5GikFwmZbC1QD3ZMcPQha7cUjLHwpxDw2hovGySgU9BDUtMutRnSEef3YigFbelaMh4bDGXRHKhxFXxiO6z5mhBGEr9xl-odHuH9H1yW)**\n",
    "\n",
    "Here, a machine learning linear regression model will be created that takes information from the past Netflix stock prices and returns a prediction of the stock price for the next day."
   ]
  },
  {
   "cell_type": "markdown",
   "id": "74505fda-90a1-4d49-a81b-6faaf6d32199",
   "metadata": {
    "tags": []
   },
   "source": [
    "### **Setup**\n",
    "***"
   ]
  },
  {
   "cell_type": "code",
   "execution_count": 1,
   "id": "34e373c3-3688-42cb-93f9-3435b8450950",
   "metadata": {},
   "outputs": [],
   "source": [
    "# Numerical arrays.\n",
    "import numpy as np\n",
    "\n",
    "# Data frames.\n",
    "import pandas as pd\n",
    "\n",
    "# Plotting.\n",
    "import matplotlib.pyplot as plt\n",
    "\n",
    "# Linear regression.\n",
    "from sklearn.linear_model import LinearRegression\n",
    "\n",
    "# Helper functions.\n",
    "import sklearn.model_selection as mod\n",
    "\n",
    "# Scikit Learn test train split import.\n",
    "from sklearn.model_selection import train_test_split\n",
    "\n",
    "# Fancier, statistical plots.\n",
    "import seaborn as sns"
   ]
  },
  {
   "cell_type": "markdown",
   "id": "ec10ffb9-1cdc-4a15-8053-302e1fbd29f4",
   "metadata": {},
   "source": [
    "***\n",
    "\n",
    "### **Reading in the Data**"
   ]
  },
  {
   "cell_type": "code",
   "execution_count": 2,
   "id": "3617bb8b-99dc-40f6-a556-57a899eb628b",
   "metadata": {},
   "outputs": [],
   "source": [
    "# Load local .csv file as DataFrame\n",
    "Df = pd.read_csv('datasets/NFLX.csv')"
   ]
  },
  {
   "cell_type": "code",
   "execution_count": 3,
   "id": "747327da-75b7-488d-a817-d36e92734fef",
   "metadata": {},
   "outputs": [
    {
     "data": {
      "text/html": [
       "<div>\n",
       "<style scoped>\n",
       "    .dataframe tbody tr th:only-of-type {\n",
       "        vertical-align: middle;\n",
       "    }\n",
       "\n",
       "    .dataframe tbody tr th {\n",
       "        vertical-align: top;\n",
       "    }\n",
       "\n",
       "    .dataframe thead th {\n",
       "        text-align: right;\n",
       "    }\n",
       "</style>\n",
       "<table border=\"1\" class=\"dataframe\">\n",
       "  <thead>\n",
       "    <tr style=\"text-align: right;\">\n",
       "      <th></th>\n",
       "      <th>Open</th>\n",
       "      <th>High</th>\n",
       "      <th>Low</th>\n",
       "      <th>Close</th>\n",
       "      <th>Adj Close</th>\n",
       "      <th>Volume</th>\n",
       "    </tr>\n",
       "  </thead>\n",
       "  <tbody>\n",
       "    <tr>\n",
       "      <th>count</th>\n",
       "      <td>252.000000</td>\n",
       "      <td>252.000000</td>\n",
       "      <td>252.000000</td>\n",
       "      <td>252.000000</td>\n",
       "      <td>252.000000</td>\n",
       "      <td>2.520000e+02</td>\n",
       "    </tr>\n",
       "    <tr>\n",
       "      <th>mean</th>\n",
       "      <td>558.536229</td>\n",
       "      <td>565.129443</td>\n",
       "      <td>551.567778</td>\n",
       "      <td>558.217697</td>\n",
       "      <td>558.217697</td>\n",
       "      <td>3.914540e+06</td>\n",
       "    </tr>\n",
       "    <tr>\n",
       "      <th>std</th>\n",
       "      <td>56.318164</td>\n",
       "      <td>56.970818</td>\n",
       "      <td>55.124724</td>\n",
       "      <td>56.002362</td>\n",
       "      <td>56.002362</td>\n",
       "      <td>2.829994e+06</td>\n",
       "    </tr>\n",
       "    <tr>\n",
       "      <th>min</th>\n",
       "      <td>479.750000</td>\n",
       "      <td>488.570007</td>\n",
       "      <td>478.540009</td>\n",
       "      <td>484.980011</td>\n",
       "      <td>484.980011</td>\n",
       "      <td>1.287200e+06</td>\n",
       "    </tr>\n",
       "    <tr>\n",
       "      <th>25%</th>\n",
       "      <td>512.589996</td>\n",
       "      <td>517.959991</td>\n",
       "      <td>505.549987</td>\n",
       "      <td>512.345016</td>\n",
       "      <td>512.345016</td>\n",
       "      <td>2.597000e+06</td>\n",
       "    </tr>\n",
       "    <tr>\n",
       "      <th>50%</th>\n",
       "      <td>544.204987</td>\n",
       "      <td>551.684998</td>\n",
       "      <td>538.100006</td>\n",
       "      <td>543.330017</td>\n",
       "      <td>543.330017</td>\n",
       "      <td>3.241950e+06</td>\n",
       "    </tr>\n",
       "    <tr>\n",
       "      <th>75%</th>\n",
       "      <td>598.277496</td>\n",
       "      <td>609.442505</td>\n",
       "      <td>593.717484</td>\n",
       "      <td>599.827500</td>\n",
       "      <td>599.827500</td>\n",
       "      <td>4.326000e+06</td>\n",
       "    </tr>\n",
       "    <tr>\n",
       "      <th>max</th>\n",
       "      <td>692.349976</td>\n",
       "      <td>700.989990</td>\n",
       "      <td>686.090027</td>\n",
       "      <td>691.690002</td>\n",
       "      <td>691.690002</td>\n",
       "      <td>3.263750e+07</td>\n",
       "    </tr>\n",
       "  </tbody>\n",
       "</table>\n",
       "</div>"
      ],
      "text/plain": [
       "             Open        High         Low       Close   Adj Close  \\\n",
       "count  252.000000  252.000000  252.000000  252.000000  252.000000   \n",
       "mean   558.536229  565.129443  551.567778  558.217697  558.217697   \n",
       "std     56.318164   56.970818   55.124724   56.002362   56.002362   \n",
       "min    479.750000  488.570007  478.540009  484.980011  484.980011   \n",
       "25%    512.589996  517.959991  505.549987  512.345016  512.345016   \n",
       "50%    544.204987  551.684998  538.100006  543.330017  543.330017   \n",
       "75%    598.277496  609.442505  593.717484  599.827500  599.827500   \n",
       "max    692.349976  700.989990  686.090027  691.690002  691.690002   \n",
       "\n",
       "             Volume  \n",
       "count  2.520000e+02  \n",
       "mean   3.914540e+06  \n",
       "std    2.829994e+06  \n",
       "min    1.287200e+06  \n",
       "25%    2.597000e+06  \n",
       "50%    3.241950e+06  \n",
       "75%    4.326000e+06  \n",
       "max    3.263750e+07  "
      ]
     },
     "execution_count": 3,
     "metadata": {},
     "output_type": "execute_result"
    }
   ],
   "source": [
    "# Better look at the data\n",
    "Df.describe()"
   ]
  },
  {
   "cell_type": "markdown",
   "id": "18c0af88-d679-44bf-b77c-dfb3adf3e568",
   "metadata": {},
   "source": [
    "***\n",
    "### <b>Visualise the Data</b>"
   ]
  },
  {
   "cell_type": "code",
   "execution_count": 4,
   "id": "860e7781-3837-4053-a00f-b36bf4ec2de1",
   "metadata": {},
   "outputs": [
    {
     "data": {
      "image/png": "[encoded data removed]",
      "text/plain": [
       "<Figure size 720x360 with 1 Axes>"
      ]
     },
     "metadata": {
      "needs_background": "light"
     },
     "output_type": "display_data"
    }
   ],
   "source": [
    "# Only keep close columns \n",
    "Df=Df[['Close']] \n",
    "# Drop rows with missing values \n",
    "Df= Df.dropna() \n",
    "# Plot the closing price of GLD \n",
    "Df.Close.plot(figsize=(10,5)) \n",
    "plt.ylabel(\"NFLX Prices\")\n",
    "plt.show()"
   ]
  },
  {
   "cell_type": "markdown",
   "id": "b1a9eebf-d4e3-4821-931f-1214a3aaaab3",
   "metadata": {},
   "source": [
    "***\n",
    "### **Define explanatory variables**"
   ]
  },
  {
   "cell_type": "code",
   "execution_count": 5,
   "id": "fb415bc2-329d-4808-8201-826df15f5823",
   "metadata": {},
   "outputs": [
    {
     "data": {
      "text/html": [
       "<div>\n",
       "<style scoped>\n",
       "    .dataframe tbody tr th:only-of-type {\n",
       "        vertical-align: middle;\n",
       "    }\n",
       "\n",
       "    .dataframe tbody tr th {\n",
       "        vertical-align: top;\n",
       "    }\n",
       "\n",
       "    .dataframe thead th {\n",
       "        text-align: right;\n",
       "    }\n",
       "</style>\n",
       "<table border=\"1\" class=\"dataframe\">\n",
       "  <thead>\n",
       "    <tr style=\"text-align: right;\">\n",
       "      <th></th>\n",
       "      <th>S_3</th>\n",
       "      <th>S_9</th>\n",
       "    </tr>\n",
       "  </thead>\n",
       "  <tbody>\n",
       "    <tr>\n",
       "      <th>9</th>\n",
       "      <td>500.966665</td>\n",
       "      <td>507.271108</td>\n",
       "    </tr>\n",
       "    <tr>\n",
       "      <th>10</th>\n",
       "      <td>502.210002</td>\n",
       "      <td>504.506666</td>\n",
       "    </tr>\n",
       "    <tr>\n",
       "      <th>11</th>\n",
       "      <td>500.203328</td>\n",
       "      <td>502.392222</td>\n",
       "    </tr>\n",
       "    <tr>\n",
       "      <th>12</th>\n",
       "      <td>528.696676</td>\n",
       "      <td>511.931115</td>\n",
       "    </tr>\n",
       "    <tr>\n",
       "      <th>13</th>\n",
       "      <td>555.983348</td>\n",
       "      <td>519.814450</td>\n",
       "    </tr>\n",
       "  </tbody>\n",
       "</table>\n",
       "</div>"
      ],
      "text/plain": [
       "           S_3         S_9\n",
       "9   500.966665  507.271108\n",
       "10  502.210002  504.506666\n",
       "11  500.203328  502.392222\n",
       "12  528.696676  511.931115\n",
       "13  555.983348  519.814450"
      ]
     },
     "execution_count": 5,
     "metadata": {},
     "output_type": "execute_result"
    }
   ],
   "source": [
    "Df['S_3'] = Df['Close'].shift(1).rolling(window=3).mean() \n",
    "Df['S_9']= Df['Close'].shift(1).rolling(window=9).mean() \n",
    "Df= Df.dropna() \n",
    "X = Df[['S_3','S_9']] \n",
    "X.head()"
   ]
  },
  {
   "cell_type": "markdown",
   "id": "cfb6d2c4-7fb6-4c03-96f9-08a00de299aa",
   "metadata": {},
   "source": [
    "***\n",
    "### **Define dependent variable**"
   ]
  },
  {
   "cell_type": "code",
   "execution_count": 6,
   "id": "e4ed10d2-1556-4aaa-a474-c39dfa8a7ea6",
   "metadata": {},
   "outputs": [
    {
     "data": {
      "text/plain": [
       "9     497.980011\n",
       "10    501.769989\n",
       "11    586.340027\n",
       "12    579.840027\n",
       "13    565.169983\n",
       "Name: Close, dtype: float64"
      ]
     },
     "execution_count": 6,
     "metadata": {},
     "output_type": "execute_result"
    }
   ],
   "source": [
    "y = Df['Close']\n",
    "y.head()"
   ]
  },
  {
   "cell_type": "markdown",
   "id": "9b7aae1b-1875-47c6-9a0c-b4a1c40597c4",
   "metadata": {},
   "source": [
    "***\n",
    "### **Split the data into train and test dataset**\n",
    "<ol>\n",
    "    <li>First 80% of the data is used for training and remaining data for testing\n",
    "    <li>X_train & y_train are training dataset\n",
    "    <li>X_test & y_test are test dataset\n",
    "</ol>"
   ]
  },
  {
   "cell_type": "code",
   "execution_count": 7,
   "id": "f04f268a-87b7-4886-bc59-5713d5b306ac",
   "metadata": {},
   "outputs": [],
   "source": [
    "t=.8 \n",
    "t = int(t*len(Df)) \n",
    "# Train dataset \n",
    "X_train = X[:t] \n",
    "y_train = y[:t]  \n",
    "# Test dataset \n",
    "X_test = X[t:] \n",
    "y_test = y[t:]"
   ]
  },
  {
   "cell_type": "markdown",
   "id": "ca1324ed-3ffa-4277-9503-ee507c65f722",
   "metadata": {},
   "source": [
    "***\n",
    "### **Create a linear regression model**\n",
    "\n",
    "If a mathematical relationship between the ‘x’ and ‘y’ variables which best explains the observed values of ‘y’ in terms of observed values of ‘x’ by fitting a line through a scatter plot then such an equation between x and y is called linear regression analysis.\n",
    "\n",
    "$Y = m1 * X1 + m2 * X2 + C NFLX price = m1 * 3 days moving average + m2 * 15 days moving average + c$"
   ]
  },
  {
   "cell_type": "code",
   "execution_count": 8,
   "id": "d4ec433e-7cde-47a8-8ee4-4b52ae18d87b",
   "metadata": {},
   "outputs": [],
   "source": [
    "linear = LinearRegression().fit(X_train,y_train)"
   ]
  },
  {
   "cell_type": "markdown",
   "id": "b51c8477-90c2-4a04-af96-50d6d6435847",
   "metadata": {},
   "source": [
    "***\n",
    "### **Predicting the NFLX prices**"
   ]
  },
  {
   "cell_type": "code",
   "execution_count": 9,
   "id": "26cb162d-2e1c-4ee1-a8cd-c2a2882a00e7",
   "metadata": {},
   "outputs": [
    {
     "data": {
      "image/png": "[encoded data removed]",
      "text/plain": [
       "<Figure size 720x360 with 1 Axes>"
      ]
     },
     "metadata": {
      "needs_background": "light"
     },
     "output_type": "display_data"
    }
   ],
   "source": [
    "predicted_price = linear.predict(X_test)  \n",
    "predicted_price = pd.DataFrame(predicted_price,index=y_test.index,columns = ['price'])  \n",
    "predicted_price.plot(figsize=(10,5))  \n",
    "y_test.plot()  \n",
    "plt.legend(['predicted_price','actual_price'])  \n",
    "plt.ylabel(\"NFLX Price\")  \n",
    "plt.show()\n"
   ]
  },
  {
   "cell_type": "markdown",
   "id": "96151776-4125-4a28-96a2-bca2d076518f",
   "metadata": {},
   "source": [
    "***\n",
    "### **Checking our Accuracy**"
   ]
  },
  {
   "cell_type": "code",
   "execution_count": 10,
   "id": "d666faac-5acf-4fc8-854e-b272efa84c3a",
   "metadata": {},
   "outputs": [
    {
     "data": {
      "text/plain": [
       "78.85"
      ]
     },
     "execution_count": 10,
     "metadata": {},
     "output_type": "execute_result"
    }
   ],
   "source": [
    "r2_score = linear.score(X[t:],y[t:])*100  \n",
    "float(\"{0:.2f}\".format(r2_score))\n"
   ]
  },
  {
   "cell_type": "markdown",
   "id": "c1c54efe-6313-46b4-9eb4-3a59cd82a239",
   "metadata": {},
   "source": [
    "The outputted prediction value is **78.85%** which isn't amazing. R-squared is always between 0 and 100%. A score close to 100% indicates that the model explains the NFLX prices well. This particular model does a mediocre job of predicting the next stock price.\n",
    "***"
   ]
  },
  {
   "cell_type": "markdown",
   "id": "e26d0c70-9ae5-4579-b5d6-596d61c2e8fc",
   "metadata": {},
   "source": [
    "<img src=\"img/hospital.jpg\" alt=\"Comparison\" style=\"width: 1400px; height: 300px\"/><br>\n",
    "\n",
    "## **Classification Algorithms** - Heart Disease Prediction\n",
    "\n",
    "Dataset taken from: **[here](https://www.kaggle.com/ronitf/heart-disease-uci)**\n",
    "\n",
    "Here, we will utilise 6 different machine learning models to predict the accuracy of heart disease in the Cleveland heart disease statistics data set. A comparison will be made to show which model has the highest accuracy rating.\n"
   ]
  },
  {
   "cell_type": "markdown",
   "id": "af4c0265-c0b9-469c-b398-bdf3a16df4a2",
   "metadata": {},
   "source": [
    "### **Setup**\n",
    "***"
   ]
  },
  {
   "cell_type": "code",
   "execution_count": 11,
   "id": "d7608b5c-5ecf-435c-b229-1c5f516b69ef",
   "metadata": {},
   "outputs": [],
   "source": [
    "# Import the RandomForestClassifier model\n",
    "from sklearn.ensemble import RandomForestClassifier\n",
    "\n",
    "from sklearn.metrics import confusion_matrix, classification_report"
   ]
  },
  {
   "cell_type": "markdown",
   "id": "6ab5cc01-9493-4bd5-b89a-2adae2888937",
   "metadata": {},
   "source": [
    "***\n",
    "\n",
    "### **Reading in the Data**"
   ]
  },
  {
   "cell_type": "code",
   "execution_count": 12,
   "id": "9afa2cbc-9049-4d7c-85c8-97723f632fde",
   "metadata": {},
   "outputs": [],
   "source": [
    "# Load local .csv file as DataFrame\n",
    "heart = pd.read_csv('datasets/heart.csv')"
   ]
  },
  {
   "cell_type": "code",
   "execution_count": 13,
   "id": "0d208e58-f7fa-4422-b62f-8d084fb2a0a2",
   "metadata": {},
   "outputs": [
    {
     "data": {
      "text/html": [
       "<div>\n",
       "<style scoped>\n",
       "    .dataframe tbody tr th:only-of-type {\n",
       "        vertical-align: middle;\n",
       "    }\n",
       "\n",
       "    .dataframe tbody tr th {\n",
       "        vertical-align: top;\n",
       "    }\n",
       "\n",
       "    .dataframe thead th {\n",
       "        text-align: right;\n",
       "    }\n",
       "</style>\n",
       "<table border=\"1\" class=\"dataframe\">\n",
       "  <thead>\n",
       "    <tr style=\"text-align: right;\">\n",
       "      <th></th>\n",
       "      <th>age</th>\n",
       "      <th>sex</th>\n",
       "      <th>cp</th>\n",
       "      <th>trestbps</th>\n",
       "      <th>chol</th>\n",
       "      <th>fbs</th>\n",
       "      <th>restecg</th>\n",
       "      <th>thalach</th>\n",
       "      <th>exang</th>\n",
       "      <th>oldpeak</th>\n",
       "      <th>slope</th>\n",
       "      <th>ca</th>\n",
       "      <th>thal</th>\n",
       "      <th>target</th>\n",
       "    </tr>\n",
       "  </thead>\n",
       "  <tbody>\n",
       "    <tr>\n",
       "      <th>count</th>\n",
       "      <td>303.000000</td>\n",
       "      <td>303.000000</td>\n",
       "      <td>303.000000</td>\n",
       "      <td>303.000000</td>\n",
       "      <td>303.000000</td>\n",
       "      <td>303.000000</td>\n",
       "      <td>303.000000</td>\n",
       "      <td>303.000000</td>\n",
       "      <td>303.000000</td>\n",
       "      <td>303.000000</td>\n",
       "      <td>303.000000</td>\n",
       "      <td>303.000000</td>\n",
       "      <td>303.000000</td>\n",
       "      <td>303.000000</td>\n",
       "    </tr>\n",
       "    <tr>\n",
       "      <th>mean</th>\n",
       "      <td>54.366337</td>\n",
       "      <td>0.683168</td>\n",
       "      <td>0.966997</td>\n",
       "      <td>131.623762</td>\n",
       "      <td>246.264026</td>\n",
       "      <td>0.148515</td>\n",
       "      <td>0.528053</td>\n",
       "      <td>149.646865</td>\n",
       "      <td>0.326733</td>\n",
       "      <td>1.039604</td>\n",
       "      <td>1.399340</td>\n",
       "      <td>0.729373</td>\n",
       "      <td>2.313531</td>\n",
       "      <td>0.544554</td>\n",
       "    </tr>\n",
       "    <tr>\n",
       "      <th>std</th>\n",
       "      <td>9.082101</td>\n",
       "      <td>0.466011</td>\n",
       "      <td>1.032052</td>\n",
       "      <td>17.538143</td>\n",
       "      <td>51.830751</td>\n",
       "      <td>0.356198</td>\n",
       "      <td>0.525860</td>\n",
       "      <td>22.905161</td>\n",
       "      <td>0.469794</td>\n",
       "      <td>1.161075</td>\n",
       "      <td>0.616226</td>\n",
       "      <td>1.022606</td>\n",
       "      <td>0.612277</td>\n",
       "      <td>0.498835</td>\n",
       "    </tr>\n",
       "    <tr>\n",
       "      <th>min</th>\n",
       "      <td>29.000000</td>\n",
       "      <td>0.000000</td>\n",
       "      <td>0.000000</td>\n",
       "      <td>94.000000</td>\n",
       "      <td>126.000000</td>\n",
       "      <td>0.000000</td>\n",
       "      <td>0.000000</td>\n",
       "      <td>71.000000</td>\n",
       "      <td>0.000000</td>\n",
       "      <td>0.000000</td>\n",
       "      <td>0.000000</td>\n",
       "      <td>0.000000</td>\n",
       "      <td>0.000000</td>\n",
       "      <td>0.000000</td>\n",
       "    </tr>\n",
       "    <tr>\n",
       "      <th>25%</th>\n",
       "      <td>47.500000</td>\n",
       "      <td>0.000000</td>\n",
       "      <td>0.000000</td>\n",
       "      <td>120.000000</td>\n",
       "      <td>211.000000</td>\n",
       "      <td>0.000000</td>\n",
       "      <td>0.000000</td>\n",
       "      <td>133.500000</td>\n",
       "      <td>0.000000</td>\n",
       "      <td>0.000000</td>\n",
       "      <td>1.000000</td>\n",
       "      <td>0.000000</td>\n",
       "      <td>2.000000</td>\n",
       "      <td>0.000000</td>\n",
       "    </tr>\n",
       "    <tr>\n",
       "      <th>50%</th>\n",
       "      <td>55.000000</td>\n",
       "      <td>1.000000</td>\n",
       "      <td>1.000000</td>\n",
       "      <td>130.000000</td>\n",
       "      <td>240.000000</td>\n",
       "      <td>0.000000</td>\n",
       "      <td>1.000000</td>\n",
       "      <td>153.000000</td>\n",
       "      <td>0.000000</td>\n",
       "      <td>0.800000</td>\n",
       "      <td>1.000000</td>\n",
       "      <td>0.000000</td>\n",
       "      <td>2.000000</td>\n",
       "      <td>1.000000</td>\n",
       "    </tr>\n",
       "    <tr>\n",
       "      <th>75%</th>\n",
       "      <td>61.000000</td>\n",
       "      <td>1.000000</td>\n",
       "      <td>2.000000</td>\n",
       "      <td>140.000000</td>\n",
       "      <td>274.500000</td>\n",
       "      <td>0.000000</td>\n",
       "      <td>1.000000</td>\n",
       "      <td>166.000000</td>\n",
       "      <td>1.000000</td>\n",
       "      <td>1.600000</td>\n",
       "      <td>2.000000</td>\n",
       "      <td>1.000000</td>\n",
       "      <td>3.000000</td>\n",
       "      <td>1.000000</td>\n",
       "    </tr>\n",
       "    <tr>\n",
       "      <th>max</th>\n",
       "      <td>77.000000</td>\n",
       "      <td>1.000000</td>\n",
       "      <td>3.000000</td>\n",
       "      <td>200.000000</td>\n",
       "      <td>564.000000</td>\n",
       "      <td>1.000000</td>\n",
       "      <td>2.000000</td>\n",
       "      <td>202.000000</td>\n",
       "      <td>1.000000</td>\n",
       "      <td>6.200000</td>\n",
       "      <td>2.000000</td>\n",
       "      <td>4.000000</td>\n",
       "      <td>3.000000</td>\n",
       "      <td>1.000000</td>\n",
       "    </tr>\n",
       "  </tbody>\n",
       "</table>\n",
       "</div>"
      ],
      "text/plain": [
       "              age         sex          cp    trestbps        chol         fbs  \\\n",
       "count  303.000000  303.000000  303.000000  303.000000  303.000000  303.000000   \n",
       "mean    54.366337    0.683168    0.966997  131.623762  246.264026    0.148515   \n",
       "std      9.082101    0.466011    1.032052   17.538143   51.830751    0.356198   \n",
       "min     29.000000    0.000000    0.000000   94.000000  126.000000    0.000000   \n",
       "25%     47.500000    0.000000    0.000000  120.000000  211.000000    0.000000   \n",
       "50%     55.000000    1.000000    1.000000  130.000000  240.000000    0.000000   \n",
       "75%     61.000000    1.000000    2.000000  140.000000  274.500000    0.000000   \n",
       "max     77.000000    1.000000    3.000000  200.000000  564.000000    1.000000   \n",
       "\n",
       "          restecg     thalach       exang     oldpeak       slope          ca  \\\n",
       "count  303.000000  303.000000  303.000000  303.000000  303.000000  303.000000   \n",
       "mean     0.528053  149.646865    0.326733    1.039604    1.399340    0.729373   \n",
       "std      0.525860   22.905161    0.469794    1.161075    0.616226    1.022606   \n",
       "min      0.000000   71.000000    0.000000    0.000000    0.000000    0.000000   \n",
       "25%      0.000000  133.500000    0.000000    0.000000    1.000000    0.000000   \n",
       "50%      1.000000  153.000000    0.000000    0.800000    1.000000    0.000000   \n",
       "75%      1.000000  166.000000    1.000000    1.600000    2.000000    1.000000   \n",
       "max      2.000000  202.000000    1.000000    6.200000    2.000000    4.000000   \n",
       "\n",
       "             thal      target  \n",
       "count  303.000000  303.000000  \n",
       "mean     2.313531    0.544554  \n",
       "std      0.612277    0.498835  \n",
       "min      0.000000    0.000000  \n",
       "25%      2.000000    0.000000  \n",
       "50%      2.000000    1.000000  \n",
       "75%      3.000000    1.000000  \n",
       "max      3.000000    1.000000  "
      ]
     },
     "execution_count": 13,
     "metadata": {},
     "output_type": "execute_result"
    }
   ],
   "source": [
    "# Better look at the data\n",
    "heart.describe()"
   ]
  },
  {
   "cell_type": "markdown",
   "id": "3890766e-3e5c-4be7-b2aa-2fa980e9c039",
   "metadata": {},
   "source": [
    "***\n",
    "### <b>Visualise the Data</b>"
   ]
  },
  {
   "cell_type": "code",
   "execution_count": 14,
   "id": "ac7161bc-41cb-4d35-a8c9-5cd1aefe5ac1",
   "metadata": {},
   "outputs": [
    {
     "data": {
      "text/plain": [
       "1    165\n",
       "0    138\n",
       "Name: target, dtype: int64"
      ]
     },
     "execution_count": 14,
     "metadata": {},
     "output_type": "execute_result"
    }
   ],
   "source": [
    "# Show how many people actually had heart disease and how many didn't\n",
    "heart[\"target\"].value_counts()"
   ]
  },
  {
   "cell_type": "code",
   "execution_count": 15,
   "id": "605c8927-7c53-41da-9d38-f17702ca460a",
   "metadata": {},
   "outputs": [
    {
     "data": {
      "image/png": "[encoded data removed]",
      "text/plain": [
       "<Figure size 432x288 with 1 Axes>"
      ]
     },
     "metadata": {
      "needs_background": "light"
     },
     "output_type": "display_data"
    }
   ],
   "source": [
    "# Visualise the data on a Graph -- 1 = had heart disease, 0 = hadn't heart disease\n",
    "heart[\"target\"].value_counts().plot(kind = \"bar\", color = [\"pink\", \"green\"]);"
   ]
  },
  {
   "cell_type": "markdown",
   "id": "6c5ec7a9-3a62-41a8-b81a-26d7bb712666",
   "metadata": {},
   "source": [
    "### Heart Disease frequency based on Gender"
   ]
  },
  {
   "cell_type": "code",
   "execution_count": 16,
   "id": "dce0e805-8b89-40b6-b7c2-38d309a44a15",
   "metadata": {},
   "outputs": [
    {
     "data": {
      "text/plain": [
       "1    207\n",
       "0     96\n",
       "Name: sex, dtype: int64"
      ]
     },
     "execution_count": 16,
     "metadata": {},
     "output_type": "execute_result"
    }
   ],
   "source": [
    "heart.sex.value_counts()"
   ]
  },
  {
   "cell_type": "code",
   "execution_count": 17,
   "id": "f790624f-6882-47a6-abc9-624ad0c2b0a2",
   "metadata": {},
   "outputs": [
    {
     "data": {
      "text/html": [
       "<div>\n",
       "<style scoped>\n",
       "    .dataframe tbody tr th:only-of-type {\n",
       "        vertical-align: middle;\n",
       "    }\n",
       "\n",
       "    .dataframe tbody tr th {\n",
       "        vertical-align: top;\n",
       "    }\n",
       "\n",
       "    .dataframe thead th {\n",
       "        text-align: right;\n",
       "    }\n",
       "</style>\n",
       "<table border=\"1\" class=\"dataframe\">\n",
       "  <thead>\n",
       "    <tr style=\"text-align: right;\">\n",
       "      <th>sex</th>\n",
       "      <th>0</th>\n",
       "      <th>1</th>\n",
       "    </tr>\n",
       "    <tr>\n",
       "      <th>target</th>\n",
       "      <th></th>\n",
       "      <th></th>\n",
       "    </tr>\n",
       "  </thead>\n",
       "  <tbody>\n",
       "    <tr>\n",
       "      <th>0</th>\n",
       "      <td>24</td>\n",
       "      <td>114</td>\n",
       "    </tr>\n",
       "    <tr>\n",
       "      <th>1</th>\n",
       "      <td>72</td>\n",
       "      <td>93</td>\n",
       "    </tr>\n",
       "  </tbody>\n",
       "</table>\n",
       "</div>"
      ],
      "text/plain": [
       "sex      0    1\n",
       "target         \n",
       "0       24  114\n",
       "1       72   93"
      ]
     },
     "execution_count": 17,
     "metadata": {},
     "output_type": "execute_result"
    }
   ],
   "source": [
    "# Compare target column with sex column\n",
    "pd.crosstab(heart.target, heart.sex)"
   ]
  },
  {
   "cell_type": "code",
   "execution_count": 18,
   "id": "a9c2bd92-bc00-4f3b-8d6f-b269340ceef5",
   "metadata": {},
   "outputs": [
    {
     "data": {
      "image/png": "[encoded data removed]",
      "text/plain": [
       "<Figure size 720x432 with 1 Axes>"
      ]
     },
     "metadata": {
      "needs_background": "light"
     },
     "output_type": "display_data"
    }
   ],
   "source": [
    "# Create a plot of crosstab\n",
    "pd.crosstab(heart.target, heart.sex).plot(kind = \"bar\",figsize=(10, 6), color = [\"pink\", \"green\"] )\n",
    "plt.title(\"Heart Disease Frequency for sex\")\n",
    "plt.xlabel(\"0 = No Disease, 1 = Disease\")\n",
    "plt.ylabel(\" Amount\")\n",
    "\n",
    "plt.legend([\"Female\", \"Male\"])\n",
    "\n",
    "plt.xticks(rotation = 0);"
   ]
  },
  {
   "cell_type": "markdown",
   "id": "fbebf200-1ba3-43c5-b843-eec182730f36",
   "metadata": {},
   "source": [
    "### Age vs. Max Heart Rate for Heart Disease"
   ]
  },
  {
   "cell_type": "code",
   "execution_count": 19,
   "id": "1b9ef1d2-a977-4776-b63d-156ce2df3d27",
   "metadata": {},
   "outputs": [
    {
     "data": {
      "image/png": "[encoded data removed]",
      "text/plain": [
       "<Figure size 720x432 with 1 Axes>"
      ]
     },
     "metadata": {
      "needs_background": "light"
     },
     "output_type": "display_data"
    }
   ],
   "source": [
    "# Create another figure \n",
    "plt.figure(figsize=(10, 6))\n",
    "\n",
    "# Scatter with positive example \n",
    "plt.scatter(heart.age[heart.target == 1], heart.thalach[heart.target ==1],\n",
    "           c = \"pink\")\n",
    "\n",
    "# Scatter with negative example \n",
    "\n",
    "plt.scatter(heart.age[heart.target == 0], heart.thalach[heart.target==0],\n",
    "           c = \"green\")\n",
    "\n",
    "# Add some helpful info\n",
    "plt.title(\"Heart Disease in function of Age and Max Heart Rate\")\n",
    "plt.xlabel(\"Age\")\n",
    "plt.ylabel(\"Max Heart Rate\")\n",
    "plt.legend([\"Disease\", \"No Disease\"]);"
   ]
  },
  {
   "cell_type": "code",
   "execution_count": 20,
   "id": "5efdaeb9-dfcf-403b-832e-4e8d045bdd62",
   "metadata": {},
   "outputs": [
    {
     "data": {
      "image/png": "[encoded data removed]",
      "text/plain": [
       "<Figure size 432x288 with 1 Axes>"
      ]
     },
     "metadata": {
      "needs_background": "light"
     },
     "output_type": "display_data"
    }
   ],
   "source": [
    "# Check the distribution of the age column with a histgram\n",
    "heart.age.plot.hist();"
   ]
  },
  {
   "cell_type": "markdown",
   "id": "a5eb0cd8-574a-41be-b551-b26a595916c1",
   "metadata": {},
   "source": [
    "***\n",
    "### **Splitting the data into test and train splits**"
   ]
  },
  {
   "cell_type": "code",
   "execution_count": 21,
   "id": "373a63fc-3791-4bb1-be21-a256328791d5",
   "metadata": {},
   "outputs": [
    {
     "data": {
      "text/html": [
       "<div>\n",
       "<style scoped>\n",
       "    .dataframe tbody tr th:only-of-type {\n",
       "        vertical-align: middle;\n",
       "    }\n",
       "\n",
       "    .dataframe tbody tr th {\n",
       "        vertical-align: top;\n",
       "    }\n",
       "\n",
       "    .dataframe thead th {\n",
       "        text-align: right;\n",
       "    }\n",
       "</style>\n",
       "<table border=\"1\" class=\"dataframe\">\n",
       "  <thead>\n",
       "    <tr style=\"text-align: right;\">\n",
       "      <th></th>\n",
       "      <th>age</th>\n",
       "      <th>sex</th>\n",
       "      <th>cp</th>\n",
       "      <th>trestbps</th>\n",
       "      <th>chol</th>\n",
       "      <th>fbs</th>\n",
       "      <th>restecg</th>\n",
       "      <th>thalach</th>\n",
       "      <th>exang</th>\n",
       "      <th>oldpeak</th>\n",
       "      <th>slope</th>\n",
       "      <th>ca</th>\n",
       "      <th>thal</th>\n",
       "      <th>target</th>\n",
       "    </tr>\n",
       "  </thead>\n",
       "  <tbody>\n",
       "    <tr>\n",
       "      <th>0</th>\n",
       "      <td>63</td>\n",
       "      <td>1</td>\n",
       "      <td>3</td>\n",
       "      <td>145</td>\n",
       "      <td>233</td>\n",
       "      <td>1</td>\n",
       "      <td>0</td>\n",
       "      <td>150</td>\n",
       "      <td>0</td>\n",
       "      <td>2.3</td>\n",
       "      <td>0</td>\n",
       "      <td>0</td>\n",
       "      <td>1</td>\n",
       "      <td>1</td>\n",
       "    </tr>\n",
       "    <tr>\n",
       "      <th>1</th>\n",
       "      <td>37</td>\n",
       "      <td>1</td>\n",
       "      <td>2</td>\n",
       "      <td>130</td>\n",
       "      <td>250</td>\n",
       "      <td>0</td>\n",
       "      <td>1</td>\n",
       "      <td>187</td>\n",
       "      <td>0</td>\n",
       "      <td>3.5</td>\n",
       "      <td>0</td>\n",
       "      <td>0</td>\n",
       "      <td>2</td>\n",
       "      <td>1</td>\n",
       "    </tr>\n",
       "  </tbody>\n",
       "</table>\n",
       "</div>"
      ],
      "text/plain": [
       "   age  sex  cp  trestbps  chol  fbs  restecg  thalach  exang  oldpeak  slope  \\\n",
       "0   63    1   3       145   233    1        0      150      0      2.3      0   \n",
       "1   37    1   2       130   250    0        1      187      0      3.5      0   \n",
       "\n",
       "   ca  thal  target  \n",
       "0   0     1       1  \n",
       "1   0     2       1  "
      ]
     },
     "execution_count": 21,
     "metadata": {},
     "output_type": "execute_result"
    }
   ],
   "source": [
    "heart.head(2)"
   ]
  },
  {
   "cell_type": "code",
   "execution_count": 22,
   "id": "808477db-a793-46bc-b284-498b2cc0db1a",
   "metadata": {},
   "outputs": [],
   "source": [
    "# split the data into x and y\n",
    "X = heart.drop(\"target\", axis = 1)\n",
    "y = heart[\"target\"]"
   ]
  },
  {
   "cell_type": "code",
   "execution_count": 23,
   "id": "37d73fe2-3e33-4096-8511-254632285fe4",
   "metadata": {},
   "outputs": [
    {
     "data": {
      "text/html": [
       "<div>\n",
       "<style scoped>\n",
       "    .dataframe tbody tr th:only-of-type {\n",
       "        vertical-align: middle;\n",
       "    }\n",
       "\n",
       "    .dataframe tbody tr th {\n",
       "        vertical-align: top;\n",
       "    }\n",
       "\n",
       "    .dataframe thead th {\n",
       "        text-align: right;\n",
       "    }\n",
       "</style>\n",
       "<table border=\"1\" class=\"dataframe\">\n",
       "  <thead>\n",
       "    <tr style=\"text-align: right;\">\n",
       "      <th></th>\n",
       "      <th>age</th>\n",
       "      <th>sex</th>\n",
       "      <th>cp</th>\n",
       "      <th>trestbps</th>\n",
       "      <th>chol</th>\n",
       "      <th>fbs</th>\n",
       "      <th>restecg</th>\n",
       "      <th>thalach</th>\n",
       "      <th>exang</th>\n",
       "      <th>oldpeak</th>\n",
       "      <th>slope</th>\n",
       "      <th>ca</th>\n",
       "      <th>thal</th>\n",
       "    </tr>\n",
       "  </thead>\n",
       "  <tbody>\n",
       "    <tr>\n",
       "      <th>0</th>\n",
       "      <td>63</td>\n",
       "      <td>1</td>\n",
       "      <td>3</td>\n",
       "      <td>145</td>\n",
       "      <td>233</td>\n",
       "      <td>1</td>\n",
       "      <td>0</td>\n",
       "      <td>150</td>\n",
       "      <td>0</td>\n",
       "      <td>2.3</td>\n",
       "      <td>0</td>\n",
       "      <td>0</td>\n",
       "      <td>1</td>\n",
       "    </tr>\n",
       "    <tr>\n",
       "      <th>1</th>\n",
       "      <td>37</td>\n",
       "      <td>1</td>\n",
       "      <td>2</td>\n",
       "      <td>130</td>\n",
       "      <td>250</td>\n",
       "      <td>0</td>\n",
       "      <td>1</td>\n",
       "      <td>187</td>\n",
       "      <td>0</td>\n",
       "      <td>3.5</td>\n",
       "      <td>0</td>\n",
       "      <td>0</td>\n",
       "      <td>2</td>\n",
       "    </tr>\n",
       "    <tr>\n",
       "      <th>2</th>\n",
       "      <td>41</td>\n",
       "      <td>0</td>\n",
       "      <td>1</td>\n",
       "      <td>130</td>\n",
       "      <td>204</td>\n",
       "      <td>0</td>\n",
       "      <td>0</td>\n",
       "      <td>172</td>\n",
       "      <td>0</td>\n",
       "      <td>1.4</td>\n",
       "      <td>2</td>\n",
       "      <td>0</td>\n",
       "      <td>2</td>\n",
       "    </tr>\n",
       "    <tr>\n",
       "      <th>3</th>\n",
       "      <td>56</td>\n",
       "      <td>1</td>\n",
       "      <td>1</td>\n",
       "      <td>120</td>\n",
       "      <td>236</td>\n",
       "      <td>0</td>\n",
       "      <td>1</td>\n",
       "      <td>178</td>\n",
       "      <td>0</td>\n",
       "      <td>0.8</td>\n",
       "      <td>2</td>\n",
       "      <td>0</td>\n",
       "      <td>2</td>\n",
       "    </tr>\n",
       "    <tr>\n",
       "      <th>4</th>\n",
       "      <td>57</td>\n",
       "      <td>0</td>\n",
       "      <td>0</td>\n",
       "      <td>120</td>\n",
       "      <td>354</td>\n",
       "      <td>0</td>\n",
       "      <td>1</td>\n",
       "      <td>163</td>\n",
       "      <td>1</td>\n",
       "      <td>0.6</td>\n",
       "      <td>2</td>\n",
       "      <td>0</td>\n",
       "      <td>2</td>\n",
       "    </tr>\n",
       "    <tr>\n",
       "      <th>...</th>\n",
       "      <td>...</td>\n",
       "      <td>...</td>\n",
       "      <td>...</td>\n",
       "      <td>...</td>\n",
       "      <td>...</td>\n",
       "      <td>...</td>\n",
       "      <td>...</td>\n",
       "      <td>...</td>\n",
       "      <td>...</td>\n",
       "      <td>...</td>\n",
       "      <td>...</td>\n",
       "      <td>...</td>\n",
       "      <td>...</td>\n",
       "    </tr>\n",
       "    <tr>\n",
       "      <th>298</th>\n",
       "      <td>57</td>\n",
       "      <td>0</td>\n",
       "      <td>0</td>\n",
       "      <td>140</td>\n",
       "      <td>241</td>\n",
       "      <td>0</td>\n",
       "      <td>1</td>\n",
       "      <td>123</td>\n",
       "      <td>1</td>\n",
       "      <td>0.2</td>\n",
       "      <td>1</td>\n",
       "      <td>0</td>\n",
       "      <td>3</td>\n",
       "    </tr>\n",
       "    <tr>\n",
       "      <th>299</th>\n",
       "      <td>45</td>\n",
       "      <td>1</td>\n",
       "      <td>3</td>\n",
       "      <td>110</td>\n",
       "      <td>264</td>\n",
       "      <td>0</td>\n",
       "      <td>1</td>\n",
       "      <td>132</td>\n",
       "      <td>0</td>\n",
       "      <td>1.2</td>\n",
       "      <td>1</td>\n",
       "      <td>0</td>\n",
       "      <td>3</td>\n",
       "    </tr>\n",
       "    <tr>\n",
       "      <th>300</th>\n",
       "      <td>68</td>\n",
       "      <td>1</td>\n",
       "      <td>0</td>\n",
       "      <td>144</td>\n",
       "      <td>193</td>\n",
       "      <td>1</td>\n",
       "      <td>1</td>\n",
       "      <td>141</td>\n",
       "      <td>0</td>\n",
       "      <td>3.4</td>\n",
       "      <td>1</td>\n",
       "      <td>2</td>\n",
       "      <td>3</td>\n",
       "    </tr>\n",
       "    <tr>\n",
       "      <th>301</th>\n",
       "      <td>57</td>\n",
       "      <td>1</td>\n",
       "      <td>0</td>\n",
       "      <td>130</td>\n",
       "      <td>131</td>\n",
       "      <td>0</td>\n",
       "      <td>1</td>\n",
       "      <td>115</td>\n",
       "      <td>1</td>\n",
       "      <td>1.2</td>\n",
       "      <td>1</td>\n",
       "      <td>1</td>\n",
       "      <td>3</td>\n",
       "    </tr>\n",
       "    <tr>\n",
       "      <th>302</th>\n",
       "      <td>57</td>\n",
       "      <td>0</td>\n",
       "      <td>1</td>\n",
       "      <td>130</td>\n",
       "      <td>236</td>\n",
       "      <td>0</td>\n",
       "      <td>0</td>\n",
       "      <td>174</td>\n",
       "      <td>0</td>\n",
       "      <td>0.0</td>\n",
       "      <td>1</td>\n",
       "      <td>1</td>\n",
       "      <td>2</td>\n",
       "    </tr>\n",
       "  </tbody>\n",
       "</table>\n",
       "<p>303 rows × 13 columns</p>\n",
       "</div>"
      ],
      "text/plain": [
       "     age  sex  cp  trestbps  chol  fbs  restecg  thalach  exang  oldpeak  \\\n",
       "0     63    1   3       145   233    1        0      150      0      2.3   \n",
       "1     37    1   2       130   250    0        1      187      0      3.5   \n",
       "2     41    0   1       130   204    0        0      172      0      1.4   \n",
       "3     56    1   1       120   236    0        1      178      0      0.8   \n",
       "4     57    0   0       120   354    0        1      163      1      0.6   \n",
       "..   ...  ...  ..       ...   ...  ...      ...      ...    ...      ...   \n",
       "298   57    0   0       140   241    0        1      123      1      0.2   \n",
       "299   45    1   3       110   264    0        1      132      0      1.2   \n",
       "300   68    1   0       144   193    1        1      141      0      3.4   \n",
       "301   57    1   0       130   131    0        1      115      1      1.2   \n",
       "302   57    0   1       130   236    0        0      174      0      0.0   \n",
       "\n",
       "     slope  ca  thal  \n",
       "0        0   0     1  \n",
       "1        0   0     2  \n",
       "2        2   0     2  \n",
       "3        2   0     2  \n",
       "4        2   0     2  \n",
       "..     ...  ..   ...  \n",
       "298      1   0     3  \n",
       "299      1   0     3  \n",
       "300      1   2     3  \n",
       "301      1   1     3  \n",
       "302      1   1     2  \n",
       "\n",
       "[303 rows x 13 columns]"
      ]
     },
     "execution_count": 23,
     "metadata": {},
     "output_type": "execute_result"
    }
   ],
   "source": [
    "# X comprises of everything but the target \n",
    "X"
   ]
  },
  {
   "cell_type": "code",
   "execution_count": 24,
   "id": "b1da9f16-b8e4-4d58-a157-277482e1519a",
   "metadata": {},
   "outputs": [
    {
     "data": {
      "text/plain": [
       "0      1\n",
       "1      1\n",
       "2      1\n",
       "3      1\n",
       "4      1\n",
       "      ..\n",
       "298    0\n",
       "299    0\n",
       "300    0\n",
       "301    0\n",
       "302    0\n",
       "Name: target, Length: 303, dtype: int64"
      ]
     },
     "execution_count": 24,
     "metadata": {},
     "output_type": "execute_result"
    }
   ],
   "source": [
    "# y comprises of just the target\n",
    "y"
   ]
  },
  {
   "cell_type": "code",
   "execution_count": 25,
   "id": "0b779cbf-6de9-4948-b59d-cb15fa5d6bf8",
   "metadata": {},
   "outputs": [],
   "source": [
    "# Split data into train and test sets\n",
    "np.random.seed(42)\n",
    "\n",
    "# Split into train & test set\n",
    "\n",
    "X_train, X_test, y_train, y_test = train_test_split(X, y, test_size = 0.2)"
   ]
  },
  {
   "cell_type": "markdown",
   "id": "4cf4a23c-ab52-4d20-baa6-db7c0c2e11a6",
   "metadata": {
    "tags": []
   },
   "source": [
    "***\n",
    "\n",
    "### **Creating the models**"
   ]
  },
  {
   "cell_type": "code",
   "execution_count": 26,
   "id": "faa4f46d-4af8-45e6-b556-338e2b62d5ec",
   "metadata": {},
   "outputs": [],
   "source": [
    "# Models from Scikit-Learn\n",
    "from sklearn.linear_model import LogisticRegression\n",
    "from sklearn.neighbors import KNeighborsClassifier\n",
    "from sklearn.ensemble import RandomForestClassifier\n",
    "from sklearn.tree import DecisionTreeClassifier\n",
    "from sklearn.naive_bayes import GaussianNB\n",
    "from sklearn.svm import SVC"
   ]
  },
  {
   "cell_type": "code",
   "execution_count": 27,
   "id": "668cd64a-a642-49d2-99f5-9c98bba6adc9",
   "metadata": {},
   "outputs": [],
   "source": [
    "# Assigning and naming the different algorithms\n",
    "models = {\"Logistic Regression\": LogisticRegression(solver=\"liblinear\"),\n",
    "          \"SVC\": SVC(),\n",
    "          \"Naive Bayes\":GaussianNB(),\n",
    "          \"KNN\": KNeighborsClassifier(),\n",
    "          \"Decision Tree Classifier\":DecisionTreeClassifier(),\n",
    "          \"Random Forest\": RandomForestClassifier()}"
   ]
  },
  {
   "cell_type": "code",
   "execution_count": 28,
   "id": "914bb927-f43c-4fb7-bd87-78400a0a5e4e",
   "metadata": {},
   "outputs": [],
   "source": [
    "# Adding the scores to a new array\n",
    "model_scores = {}\n",
    "\n",
    "for name, model in models.items():\n",
    "    \n",
    "    model.fit(X_train, y_train)\n",
    "    # Evaluate the model and append its score to model_scores\n",
    "    model_scores[name] = model.score(X_test, y_test)"
   ]
  },
  {
   "cell_type": "code",
   "execution_count": 29,
   "id": "9ab9e6fa-0031-4e07-90cc-0c1205859f90",
   "metadata": {},
   "outputs": [
    {
     "data": {
      "text/html": [
       "<div>\n",
       "<style scoped>\n",
       "    .dataframe tbody tr th:only-of-type {\n",
       "        vertical-align: middle;\n",
       "    }\n",
       "\n",
       "    .dataframe tbody tr th {\n",
       "        vertical-align: top;\n",
       "    }\n",
       "\n",
       "    .dataframe thead th {\n",
       "        text-align: right;\n",
       "    }\n",
       "</style>\n",
       "<table border=\"1\" class=\"dataframe\">\n",
       "  <thead>\n",
       "    <tr style=\"text-align: right;\">\n",
       "      <th></th>\n",
       "      <th>Logistic Regression</th>\n",
       "      <th>SVC</th>\n",
       "      <th>Naive Bayes</th>\n",
       "      <th>KNN</th>\n",
       "      <th>Decision Tree Classifier</th>\n",
       "      <th>Random Forest</th>\n",
       "    </tr>\n",
       "  </thead>\n",
       "  <tbody>\n",
       "    <tr>\n",
       "      <th>Accuracy</th>\n",
       "      <td>0.868852</td>\n",
       "      <td>0.704918</td>\n",
       "      <td>0.868852</td>\n",
       "      <td>0.688525</td>\n",
       "      <td>0.819672</td>\n",
       "      <td>0.852459</td>\n",
       "    </tr>\n",
       "  </tbody>\n",
       "</table>\n",
       "</div>"
      ],
      "text/plain": [
       "          Logistic Regression       SVC  Naive Bayes       KNN  \\\n",
       "Accuracy             0.868852  0.704918     0.868852  0.688525   \n",
       "\n",
       "          Decision Tree Classifier  Random Forest  \n",
       "Accuracy                  0.819672       0.852459  "
      ]
     },
     "execution_count": 29,
     "metadata": {},
     "output_type": "execute_result"
    }
   ],
   "source": [
    "# Display the scores under a new row \"Accuracy\"\n",
    "evaluation = pd.DataFrame(model_scores, index=[\"Accuracy\"])\n",
    "evaluation"
   ]
  },
  {
   "cell_type": "code",
   "execution_count": 30,
   "id": "31f22838-b988-47d4-9b8b-7486b43d5d99",
   "metadata": {},
   "outputs": [
    {
     "data": {
      "text/plain": [
       "<matplotlib.legend.Legend at 0x7fbf234bda30>"
      ]
     },
     "execution_count": 30,
     "metadata": {},
     "output_type": "execute_result"
    },
    {
     "data": {
      "image/png": "[encoded data removed]",
      "text/plain": [
       "<Figure size 432x288 with 1 Axes>"
      ]
     },
     "metadata": {
      "needs_background": "light"
     },
     "output_type": "display_data"
    }
   ],
   "source": [
    "# Lets plot it\n",
    "evaluation.T.plot.bar()\n",
    "# Put a legend to the right of the current axis\n",
    "plt.legend(loc='center left', bbox_to_anchor=(1, 0.5))"
   ]
  },
  {
   "cell_type": "markdown",
   "id": "a8c5b4e1-311e-4f35-8d93-3a98fc5d792a",
   "metadata": {},
   "source": [
    "From the bar chart, we can determine the accuracy to predict heart disease from the inputted data is high, however the **Logistic Regression, Naive Bayes** and **Random Forest** models output the highest accuracy with a **86.8852%, 86.8852%** and **85.2459%** respectively.\n",
    "***"
   ]
  },
  {
   "cell_type": "markdown",
   "id": "d991ba6a-e3c7-4a72-86a8-3ecd9541c11b",
   "metadata": {},
   "source": [
    "<img src=\"img/iris.jpg\" alt=\"Comparison\" style=\"width: 1400px; height: 300px\"/><br>\n",
    "\n",
    "## **Clustering Algorithms** - Identifying different Iris plants using K Means \n",
    "\n",
    "Dataset taken from: **[here](https://www.kaggle.com/uciml/iris)**\n",
    "\n",
    "https://www.kaggle.com/uciml/iris\n",
    "\n",
    "Here, a clustering algorithm will be utilised and applied to the following data taken from iris plants to identify different plants given their petal width and sepal length."
   ]
  },
  {
   "cell_type": "markdown",
   "id": "cdfa6b65-e1b7-4445-964f-f540a901b02f",
   "metadata": {},
   "source": [
    "### **Setup**\n",
    "***"
   ]
  },
  {
   "cell_type": "code",
   "execution_count": 31,
   "id": "70de9b4e-f8fc-46de-897e-83da14b0b5ea",
   "metadata": {},
   "outputs": [],
   "source": [
    "# Load local .csv file as DataFrame\n",
    "iris = pd.read_csv('datasets/Iris.csv')"
   ]
  },
  {
   "cell_type": "code",
   "execution_count": 32,
   "id": "bb1f2386-fe47-4cd1-9802-304a5b2cc09b",
   "metadata": {},
   "outputs": [
    {
     "data": {
      "text/html": [
       "<div>\n",
       "<style scoped>\n",
       "    .dataframe tbody tr th:only-of-type {\n",
       "        vertical-align: middle;\n",
       "    }\n",
       "\n",
       "    .dataframe tbody tr th {\n",
       "        vertical-align: top;\n",
       "    }\n",
       "\n",
       "    .dataframe thead th {\n",
       "        text-align: right;\n",
       "    }\n",
       "</style>\n",
       "<table border=\"1\" class=\"dataframe\">\n",
       "  <thead>\n",
       "    <tr style=\"text-align: right;\">\n",
       "      <th></th>\n",
       "      <th>Id</th>\n",
       "      <th>SepalLengthCm</th>\n",
       "      <th>SepalWidthCm</th>\n",
       "      <th>PetalLengthCm</th>\n",
       "      <th>PetalWidthCm</th>\n",
       "      <th>Species</th>\n",
       "    </tr>\n",
       "  </thead>\n",
       "  <tbody>\n",
       "    <tr>\n",
       "      <th>0</th>\n",
       "      <td>1</td>\n",
       "      <td>5.1</td>\n",
       "      <td>3.5</td>\n",
       "      <td>1.4</td>\n",
       "      <td>0.2</td>\n",
       "      <td>Iris-setosa</td>\n",
       "    </tr>\n",
       "    <tr>\n",
       "      <th>1</th>\n",
       "      <td>2</td>\n",
       "      <td>4.9</td>\n",
       "      <td>3.0</td>\n",
       "      <td>1.4</td>\n",
       "      <td>0.2</td>\n",
       "      <td>Iris-setosa</td>\n",
       "    </tr>\n",
       "    <tr>\n",
       "      <th>2</th>\n",
       "      <td>3</td>\n",
       "      <td>4.7</td>\n",
       "      <td>3.2</td>\n",
       "      <td>1.3</td>\n",
       "      <td>0.2</td>\n",
       "      <td>Iris-setosa</td>\n",
       "    </tr>\n",
       "    <tr>\n",
       "      <th>3</th>\n",
       "      <td>4</td>\n",
       "      <td>4.6</td>\n",
       "      <td>3.1</td>\n",
       "      <td>1.5</td>\n",
       "      <td>0.2</td>\n",
       "      <td>Iris-setosa</td>\n",
       "    </tr>\n",
       "    <tr>\n",
       "      <th>4</th>\n",
       "      <td>5</td>\n",
       "      <td>5.0</td>\n",
       "      <td>3.6</td>\n",
       "      <td>1.4</td>\n",
       "      <td>0.2</td>\n",
       "      <td>Iris-setosa</td>\n",
       "    </tr>\n",
       "  </tbody>\n",
       "</table>\n",
       "</div>"
      ],
      "text/plain": [
       "   Id  SepalLengthCm  SepalWidthCm  PetalLengthCm  PetalWidthCm      Species\n",
       "0   1            5.1           3.5            1.4           0.2  Iris-setosa\n",
       "1   2            4.9           3.0            1.4           0.2  Iris-setosa\n",
       "2   3            4.7           3.2            1.3           0.2  Iris-setosa\n",
       "3   4            4.6           3.1            1.5           0.2  Iris-setosa\n",
       "4   5            5.0           3.6            1.4           0.2  Iris-setosa"
      ]
     },
     "execution_count": 32,
     "metadata": {},
     "output_type": "execute_result"
    }
   ],
   "source": [
    "# Better look at the data\n",
    "iris.head()"
   ]
  },
  {
   "cell_type": "markdown",
   "id": "b56a1a64-3d27-4e84-afb3-6b447ce937e5",
   "metadata": {},
   "source": [
    "***\n",
    "### <b>Visualise the Data</b>"
   ]
  },
  {
   "cell_type": "code",
   "execution_count": 33,
   "id": "92fcd6d1-fb68-45d0-b26f-5bda519cf196",
   "metadata": {},
   "outputs": [
    {
     "data": {
      "text/plain": [
       "array(['Iris-setosa', 'Iris-versicolor', 'Iris-virginica'], dtype=object)"
      ]
     },
     "execution_count": 33,
     "metadata": {},
     "output_type": "execute_result"
    }
   ],
   "source": [
    "# See species of plants\n",
    "iris.Species.unique()"
   ]
  },
  {
   "cell_type": "code",
   "execution_count": 34,
   "id": "283a2b07-6b32-4a09-b8c7-94084c12fa52",
   "metadata": {},
   "outputs": [
    {
     "data": {
      "text/plain": [
       "(150, 2)"
      ]
     },
     "execution_count": 34,
     "metadata": {},
     "output_type": "execute_result"
    }
   ],
   "source": [
    "# Display shape of data (no. rows, no.columns)\n",
    "X = iris[[\"SepalLengthCm\",\"PetalWidthCm\"]]\n",
    "X.shape"
   ]
  },
  {
   "cell_type": "code",
   "execution_count": 35,
   "id": "edc279c3-189e-43a3-b8b3-93daf1505b41",
   "metadata": {},
   "outputs": [
    {
     "data": {
      "text/plain": [
       "<AxesSubplot:xlabel='SepalLengthCm', ylabel='PetalWidthCm'>"
      ]
     },
     "execution_count": 35,
     "metadata": {},
     "output_type": "execute_result"
    },
    {
     "data": {
      "image/png": "[encoded data removed]",
      "text/plain": [
       "<Figure size 432x288 with 1 Axes>"
      ]
     },
     "metadata": {
      "needs_background": "light"
     },
     "output_type": "display_data"
    }
   ],
   "source": [
    "# Visualise the data with the unique species of plants on a scatter plot\n",
    "sns.scatterplot(data = iris, x = \"SepalLengthCm\", y = \"PetalWidthCm\", hue = iris.Species, palette = \"dark\")"
   ]
  },
  {
   "cell_type": "markdown",
   "id": "1b6d256a-98ae-45e1-abdb-f061e01d8bcf",
   "metadata": {},
   "source": [
    "***\n",
    "### <b>Implementing K-means Algorithm</b>"
   ]
  },
  {
   "cell_type": "code",
   "execution_count": 36,
   "id": "a81de5d2-720c-4f5c-97d7-e5260688b259",
   "metadata": {},
   "outputs": [
    {
     "data": {
      "text/plain": [
       "array([1, 1, 1, 1, 1, 1, 1, 1, 1, 1, 1, 1, 1, 1, 1, 1, 1, 1, 1, 1, 1, 1,\n",
       "       1, 1, 1, 1, 1, 1, 1, 1, 1, 1, 1, 1, 1, 1, 1, 1, 1, 1, 1, 1, 1, 1,\n",
       "       1, 1, 1, 1, 1, 1, 2, 0, 2, 0, 0, 0, 0, 1, 0, 0, 1, 0, 0, 0, 0, 2,\n",
       "       0, 0, 0, 0, 0, 0, 0, 0, 0, 2, 2, 2, 0, 0, 0, 0, 0, 0, 0, 0, 2, 0,\n",
       "       0, 0, 0, 0, 0, 1, 0, 0, 0, 0, 1, 0, 2, 0, 2, 0, 2, 2, 0, 2, 2, 2,\n",
       "       2, 2, 2, 0, 0, 2, 2, 2, 2, 0, 2, 0, 2, 0, 2, 2, 0, 0, 2, 2, 2, 2,\n",
       "       2, 0, 0, 2, 2, 2, 0, 2, 2, 2, 0, 2, 2, 2, 2, 2, 2, 0], dtype=int32)"
      ]
     },
     "execution_count": 36,
     "metadata": {},
     "output_type": "execute_result"
    }
   ],
   "source": [
    "# Perform K-means algorithm\n",
    "from sklearn.cluster import KMeans \n",
    "X = iris[[\"SepalLengthCm\",\"PetalWidthCm\"]]\n",
    "km = KMeans(n_clusters=3, n_init = 3, init = \"random\", random_state = 42)\n",
    "km.fit(X)\n",
    "\n",
    "# show which cluster each data point belongs to.\n",
    "y_kmeans = km.predict(X)\n",
    "y_kmeans"
   ]
  },
  {
   "cell_type": "code",
   "execution_count": 37,
   "id": "e6fd4107-0420-4941-8dce-d347f0cb25d5",
   "metadata": {},
   "outputs": [
    {
     "data": {
      "text/plain": [
       "Text(0, 0.5, 'PetalWidthCm')"
      ]
     },
     "execution_count": 37,
     "metadata": {},
     "output_type": "execute_result"
    },
    {
     "data": {
      "image/png": "[encoded data removed]",
      "text/plain": [
       "<Figure size 432x288 with 1 Axes>"
      ]
     },
     "metadata": {
      "needs_background": "light"
     },
     "output_type": "display_data"
    }
   ],
   "source": [
    "# Plot clusters - this is done by colour coding the data points according to which cluster the data point belongs to\n",
    "sns.scatterplot(data=iris, x=\"SepalLengthCm\", y=\"PetalWidthCm\", hue= y_kmeans, palette = \"colorblind\")\n",
    "centers = km.cluster_centers_# Plot centers\n",
    "plt.scatter(centers[:, 0], centers[:, 1], c='black', s=200, alpha = 0.6);\n",
    "plt.xlabel(\"SepalLengthCm\")\n",
    "plt.ylabel(\"PetalWidthCm\")"
   ]
  },
  {
   "cell_type": "markdown",
   "id": "76f6cf05-6ae5-47ab-978c-fe112f7de4bb",
   "metadata": {},
   "source": [
    "***\n",
    "### <b>Comparing the two scatter graphs</b>"
   ]
  },
  {
   "cell_type": "markdown",
   "id": "2acd5ee8-d6ab-433f-83e6-1ba8046b398b",
   "metadata": {},
   "source": [
    "<img src=\"img/comparisonIris.png\" alt=\"Comparison\" style=\"width: 600px; height: 350px\"/><br>"
   ]
  },
  {
   "cell_type": "markdown",
   "id": "8026a42d-6253-44fc-a5a5-9987b4acf608",
   "metadata": {},
   "source": [
    "From the two scatter graphs, we can make following predictions because of the similarities between them:\n",
    "<ul>\n",
    "    <li>Cluster <b>0</b> most likely refers to <b>Iris-versicolor</b>\n",
    "    <li>Cluster <b>1</b> most likely refers to <b>Iris-setosa</b>\n",
    "    <li>Cluster <b>2</b> most likely refers to <b>Iris-virginica</b>\n",
    "        \n",
    "</ul>"
   ]
  },
  {
   "cell_type": "markdown",
   "id": "806cb1c5-bd18-400f-9640-94b77c1916a4",
   "metadata": {},
   "source": [
    "***\n",
    "\n",
    "### **Selecting number of clusters K**"
   ]
  },
  {
   "cell_type": "markdown",
   "id": "5a54d9ba-52af-40f1-8ae1-fd9a8ce88059",
   "metadata": {},
   "source": [
    "To evaluate the performance of our k-means algorithm we can take a look at the Inertia or objective function value. This is essentially the sum of squared distances which our data points are away from their cluster centroid."
   ]
  },
  {
   "cell_type": "code",
   "execution_count": 38,
   "id": "19f9e01f-aebc-4012-aa5f-e38c6818b1ef",
   "metadata": {},
   "outputs": [
    {
     "data": {
      "image/png": "[encoded data removed]",
      "text/plain": [
       "<Figure size 432x288 with 1 Axes>"
      ]
     },
     "metadata": {
      "needs_background": "light"
     },
     "output_type": "display_data"
    }
   ],
   "source": [
    "intertia = []\n",
    "K = range(1,15)\n",
    "for k in K:\n",
    "    km = KMeans(n_clusters=k)\n",
    "    km = km.fit(X)\n",
    "    intertia.append(km.inertia_)\n",
    "plt.plot(K, intertia, marker= \"x\")\n",
    "plt.xlabel('k')\n",
    "plt.xticks(np.arange(15))\n",
    "plt.ylabel('Intertia')\n",
    "plt.title('Elbow Method')\n",
    "plt.show()"
   ]
  },
  {
   "cell_type": "markdown",
   "id": "9f0815f1-2b75-4f93-a242-37282fc82962",
   "metadata": {},
   "source": [
    "The “elbow” of the above graph gives the optimum number of clusters for our data. This is the point before a roughly linear decrease in Inertia — which in this case is **k = 3**. This helpfully matches our number of Iris species."
   ]
  },
  {
   "cell_type": "markdown",
   "id": "c6239320-ee05-4a99-912c-6aa6af258634",
   "metadata": {},
   "source": [
    "***"
   ]
  },
  {
   "cell_type": "markdown",
   "id": "41dd7e7c-a175-4ebd-9af5-6af99fcfcb5d",
   "metadata": {},
   "source": [
    "# References\n",
    "***"
   ]
  },
  {
   "cell_type": "markdown",
   "id": "e9582e9e-f3f3-4db4-9bdd-c469bf971f99",
   "metadata": {
    "tags": []
   },
   "source": [
    "<b>[1]</b> Brownlee, J., 2021. A Gentle Introduction to Scikit-Learn. [online] Machine Learning Mastery. \n",
    "\n",
    "Available at: <https://machinelearningmastery.com/a-gentle-introduction-to-scikit-learn-a-python-machine-learning-library/> [Accessed 19 November 2021].\n",
    "\n",
    "\n",
    "<b>[2]</b>Scikit-learn.org. 2021. scikit-learn: machine learning in Python — scikit-learn 1.0.1 documentation. [online] \n",
    "\n",
    "Available at: <https://scikit-learn.org/stable/index.html> [Accessed 4 December 2021].\n",
    "\n",
    "**[3]** Malik, U., 2022. Implementing SVM and Kernel SVM with Python's Scikit-Learn. [online] Stack Abuse. \n",
    "\n",
    "Available at: <https://stackabuse.com/implementing-svm-and-kernel-svm-with-pythons-scikit-learn/> [Accessed 2 January 2022].\n",
    "\n",
    "**[4]** Kumar, R., 2022. Using Linear Regression To Predict AAPL (Apple stock) Prices In Python. [online] Medium. \n",
    "\n",
    "Available at: <https://medium.com/analytics-vidhya/using-linear-regression-to-predict-aapl-apple-stock-prices-in-python-1a629fbea15b> [Accessed 2 January 2022].\n",
    "\n",
    "**[5]** West, Z., 2022. Predicting Stock Prices with Linear Regression in Python - αlphαrithms. [online] αlphαrithms. \n",
    "\n",
    "Available at: <https://www.alpharithms.com/predicting-stock-prices-with-linear-regression-214618/> [Accessed 2 January 2022].\n",
    "\n",
    "**[6]** Shukla, A., 2022. heart-disease-prediction. [online] Kaggle.com. \n",
    "\n",
    "Available at: <https://www.kaggle.com/akshukla283/heart-disease-prediction> [Accessed 2 January 2022].\n",
    "\n",
    "**[7]** Ahmed, M., 2022. K-means Clustering in Python. [online] Medium. \n",
    "\n",
    "Available at: <https://python.plainenglish.io/k-means-clustering-in-python-9825a280f9cb> [Accessed 2 January 2022].\n",
    "\n",
    "**[8]** Seaborn.pydata.org. 2022. Choosing color palettes — seaborn 0.11.2 documentation. [online] \n",
    "\n",
    "Available at: <https://seaborn.pydata.org/tutorial/color_palettes.html> [Accessed 2 January 2022].\n"
   ]
  },
  {
   "cell_type": "code",
   "execution_count": null,
   "id": "b78be9a4-e682-4b99-aa97-8d5772b36f5f",
   "metadata": {},
   "outputs": [],
   "source": []
  }
 ],
 "metadata": {
  "kernelspec": {
   "display_name": "Python 3 (ipykernel)",
   "language": "python",
   "name": "python3"
  },
  "language_info": {
   "codemirror_mode": {
    "name": "ipython",
    "version": 3
   },
   "file_extension": ".py",
   "mimetype": "text/x-python",
   "name": "python",
   "nbconvert_exporter": "python",
   "pygments_lexer": "ipython3",
   "version": "3.9.7"
  }
 },
 "nbformat": 4,
 "nbformat_minor": 5
}
