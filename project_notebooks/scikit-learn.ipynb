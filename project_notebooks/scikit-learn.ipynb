{
 "cells": [
  {
   "cell_type": "markdown",
   "id": "5b7dd7fe-0b12-4e9c-83a1-75406936cb18",
   "metadata": {},
   "source": [
    "# Scikit-Learn - Emerging Technologies 2021\n",
    "\n",
    "***"
   ]
  },
  {
   "cell_type": "markdown",
   "id": "de159f2c-4281-4a4c-88a5-b8405948babc",
   "metadata": {},
   "source": [
    "![Scikit-Learn logo](img/scikit-learn-logo.png)\n",
    "\n",
    "## Introduction\n",
    "\n",
    " \n",
    "***"
   ]
  },
  {
   "cell_type": "markdown",
   "id": "9e78b50a-12e0-4235-92ac-8115f424e274",
   "metadata": {},
   "source": [
    "This notebooks purpose is to provide a clear and concise overview of the scikit-learn Python library as well as demonstrations of at least three interesting scikit-learn algorithms. Namely the (blank), (blank) and (blank) algorithms. These algorithms will also be accompanied by appropriate plots and other visualisations. \n",
    "\n",
    "In accordance with [GMIT's plagarism policy](https://www.gmit.ie/sites/default/files/public/general/docs/policy-plagiarism-2019.pdf), all work in this notebook is owned by the author who created this notebook. All sources and aids used have been indicated as such. All texts either quoted directly or paraphrased have been indicated by in-text citations."
   ]
  },
  {
   "cell_type": "markdown",
   "id": "dbaa108d-576c-4401-9e18-83cc7116b5fa",
   "metadata": {},
   "source": [
    "## Overview - What is Scikit-Learn?\n",
    "***"
   ]
  },
  {
   "cell_type": "markdown",
   "id": "23f0c6fd-b2a2-49cc-93eb-ce411c02c56e",
   "metadata": {},
   "source": [
    "Scikit-learn provides a range of supervised and unsupervised learning algorithms via a consistent interface in Python[[1]](#a-gentle-introduction-to-scikit-learn). It includes many recognisable Python libraries to make "
   ]
  },
  {
   "cell_type": "code",
   "execution_count": null,
   "id": "0a476b44-1f1b-402f-9a10-765d59aee28c",
   "metadata": {},
   "outputs": [],
   "source": []
  },
  {
   "cell_type": "markdown",
   "id": "54d09b5e-3ec2-4cd3-9ae5-d927df111262",
   "metadata": {},
   "source": [
    "## Interesting Algorithms\n",
    "***"
   ]
  },
  {
   "cell_type": "code",
   "execution_count": null,
   "id": "e2e1caf9-7b28-4d49-b229-f071a50f886e",
   "metadata": {},
   "outputs": [],
   "source": []
  },
  {
   "cell_type": "code",
   "execution_count": null,
   "id": "56eef97b-20cf-4010-bf62-900cb8147a2e",
   "metadata": {},
   "outputs": [],
   "source": []
  },
  {
   "cell_type": "markdown",
   "id": "f66aa32d-3e28-4313-95b7-a882de22deb5",
   "metadata": {},
   "source": [
    "## Conclusions\n",
    "***"
   ]
  },
  {
   "cell_type": "code",
   "execution_count": null,
   "id": "4b54473f-defb-4cba-a543-25e565bafca6",
   "metadata": {},
   "outputs": [],
   "source": []
  },
  {
   "cell_type": "code",
   "execution_count": null,
   "id": "6dcd1a4a-e206-4ac3-a89c-9bd5f622a090",
   "metadata": {},
   "outputs": [],
   "source": []
  },
  {
   "cell_type": "markdown",
   "id": "41dd7e7c-a175-4ebd-9af5-6af99fcfcb5d",
   "metadata": {},
   "source": [
    "# References\n",
    "***"
   ]
  },
  {
   "cell_type": "markdown",
   "id": "e9582e9e-f3f3-4db4-9bdd-c469bf971f99",
   "metadata": {},
   "source": [
    "### A Gentle Introduction to Scikit-Learn\n",
    "[1] Brownlee, J., 2021. A Gentle Introduction to Scikit-Learn. [online] Machine Learning Mastery. \n",
    "\n",
    "Available at: <https://machinelearningmastery.com/a-gentle-introduction-to-scikit-learn-a-python-machine-learning-library/> [Accessed 19 November 2021]."
   ]
  },
  {
   "cell_type": "markdown",
   "id": "6943d06f-c667-4b23-95db-ec58f44082a0",
   "metadata": {},
   "source": [
    "# Resources\n",
    "***"
   ]
  },
  {
   "cell_type": "code",
   "execution_count": null,
   "id": "e987e9f3-4eea-4346-bc4a-ad869656a43d",
   "metadata": {},
   "outputs": [],
   "source": []
  }
 ],
 "metadata": {
  "kernelspec": {
   "display_name": "Python 3 (ipykernel)",
   "language": "python",
   "name": "python3"
  },
  "language_info": {
   "codemirror_mode": {
    "name": "ipython",
    "version": 3
   },
   "file_extension": ".py",
   "mimetype": "text/x-python",
   "name": "python",
   "nbconvert_exporter": "python",
   "pygments_lexer": "ipython3",
   "version": "3.9.7"
  }
 },
 "nbformat": 4,
 "nbformat_minor": 5
}
