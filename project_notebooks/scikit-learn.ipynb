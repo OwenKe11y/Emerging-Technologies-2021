{
 "cells": [
  {
   "cell_type": "markdown",
   "id": "de159f2c-4281-4a4c-88a5-b8405948babc",
   "metadata": {},
   "source": [
    "![Scikit-Learn logo](img/scikit-learn-logo.png)\n",
    "\n",
    "# <b>Introduction</b>\n",
    "\n",
    " \n",
    "***"
   ]
  },
  {
   "cell_type": "markdown",
   "id": "9e78b50a-12e0-4235-92ac-8115f424e274",
   "metadata": {},
   "source": [
    "This notebooks purpose is to provide a clear and concise overview of the scikit-learn Python library as well as demonstrations of at least three interesting scikit-learn algorithms. Namely the (blank), (blank) and (blank) algorithms. These algorithms will also be accompanied by appropriate plots and other visualisations. \n",
    "\n",
    "In accordance with [GMIT's plagarism policy](https://www.gmit.ie/sites/default/files/public/general/docs/policy-plagiarism-2019.pdf), all work compiled in this notebook is owned by the author and the creators of the respective algorithms. All sources and aids used have been indicated as such. All texts either quoted directly or paraphrased have been indicated by in-text citations."
   ]
  },
  {
   "cell_type": "markdown",
   "id": "dbaa108d-576c-4401-9e18-83cc7116b5fa",
   "metadata": {},
   "source": [
    "## Overview - What is Scikit-Learn?\n",
    "***"
   ]
  },
  {
   "cell_type": "markdown",
   "id": "23f0c6fd-b2a2-49cc-93eb-ce411c02c56e",
   "metadata": {},
   "source": [
    "Scikit-learn provides a range of supervised and unsupervised learning algorithms via a consistent interface in Python[[1]](#references). It is built upon the SciPy library which means it includes many recognisable Python libraries which are included in the SciPy library such as:\n",
    "* <b>NumPy</b>: Base n-dimensional array package\n",
    "* <b>SciPy</b>: Fundamental library for scientific computing\n",
    "* <b>Matplotlib</b>: Comprehensive 2D/3D plotting\n",
    "* <b>IPython</b>: Enhanced interactive console\n",
    "* <b>Sympy</b>: Symbolic mathematics\n",
    "* <b>Pandas</b>: Data structures and analysis\n"
   ]
  },
  {
   "cell_type": "markdown",
   "id": "a9bd577a-fae5-47d3-90fd-30ecb725787e",
   "metadata": {},
   "source": [
    "The library is focused on modeling data. It is not focused on loading, manipulating and summarizing data. it is described on the offical SciKit page as[[2]](#references): \n",
    "\n",
    "    \"Simple and efficient tools for predictive data analysis\n",
    "    Accessible to everybody, and reusable in various contexts\n",
    "    Built on NumPy, SciPy, and matplotlib\n",
    "    Open source, commercially usable - BSD license\"\n",
    "    \n",
    "\n",
    "\n"
   ]
  },
  {
   "cell_type": "markdown",
   "id": "54d09b5e-3ec2-4cd3-9ae5-d927df111262",
   "metadata": {},
   "source": [
    "# <b>Interesting Algorithms</b>\n",
    "***"
   ]
  },
  {
   "cell_type": "markdown",
   "id": "f8a4ba07-3a20-484b-8990-1cb4df462706",
   "metadata": {},
   "source": [
    "## **Linear Regression** - Predicting the stock price of Netflix \n",
    "\n",
    "Dataset taken from: **[here](https://finance.yahoo.com/quote/nflx/history/?guccounter=1&guce_referrer=aHR0cHM6Ly93d3cuZ29vZ2xlLmNvbS8&guce_referrer_sig=AQAAAFA2PMvQkzsotUIvyr7kLpidRReghKPM7ESGIrULUHoqhfacsISd_Q6LHVzqr67qD9_I5GikFwmZbC1QD3ZMcPQha7cUjLHwpxDw2hovGySgU9BDUtMutRnSEef3YigFbelaMh4bDGXRHKhxFXxiO6z5mhBGEr9xl-odHuH9H1yW)**\n",
    "\n",
    "Here, a machine learning linear regression model will be created that takes information from the past Netflix stock prices and returns a prediction of the stock price for the next day."
   ]
  },
  {
   "cell_type": "markdown",
   "id": "74505fda-90a1-4d49-a81b-6faaf6d32199",
   "metadata": {
    "tags": []
   },
   "source": [
    "### **Setup**\n",
    "***"
   ]
  },
  {
   "cell_type": "code",
   "execution_count": 12,
   "id": "34e373c3-3688-42cb-93f9-3435b8450950",
   "metadata": {},
   "outputs": [],
   "source": [
    "# Numerical arrays.\n",
    "import numpy as np\n",
    "\n",
    "# Data frames.\n",
    "import pandas as pd\n",
    "\n",
    "# Plotting.\n",
    "import matplotlib.pyplot as plt\n",
    "\n",
    "# Linear regression.\n",
    "from sklearn.linear_model import LinearRegression\n",
    "\n",
    "# Helper functions.\n",
    "import sklearn.model_selection as mod\n",
    "\n",
    "# Scikit Learn test train split import.\n",
    "from sklearn.model_selection import train_test_split\n",
    "\n",
    "# Fancier, statistical plots.\n",
    "import seaborn as sns"
   ]
  },
  {
   "cell_type": "markdown",
   "id": "ec10ffb9-1cdc-4a15-8053-302e1fbd29f4",
   "metadata": {},
   "source": [
    "***\n",
    "\n",
    "### **Reading in the Data**"
   ]
  },
  {
   "cell_type": "code",
   "execution_count": 2,
   "id": "3617bb8b-99dc-40f6-a556-57a899eb628b",
   "metadata": {},
   "outputs": [],
   "source": [
    "# Load local .csv file as DataFrame\n",
    "Df = pd.read_csv('NFLX.csv')"
   ]
  },
  {
   "cell_type": "code",
   "execution_count": 14,
   "id": "747327da-75b7-488d-a817-d36e92734fef",
   "metadata": {},
   "outputs": [
    {
     "data": {
      "text/html": [
       "<div>\n",
       "<style scoped>\n",
       "    .dataframe tbody tr th:only-of-type {\n",
       "        vertical-align: middle;\n",
       "    }\n",
       "\n",
       "    .dataframe tbody tr th {\n",
       "        vertical-align: top;\n",
       "    }\n",
       "\n",
       "    .dataframe thead th {\n",
       "        text-align: right;\n",
       "    }\n",
       "</style>\n",
       "<table border=\"1\" class=\"dataframe\">\n",
       "  <thead>\n",
       "    <tr style=\"text-align: right;\">\n",
       "      <th></th>\n",
       "      <th>Close</th>\n",
       "      <th>S_3</th>\n",
       "      <th>S_9</th>\n",
       "    </tr>\n",
       "  </thead>\n",
       "  <tbody>\n",
       "    <tr>\n",
       "      <th>count</th>\n",
       "      <td>243.000000</td>\n",
       "      <td>243.000000</td>\n",
       "      <td>243.000000</td>\n",
       "    </tr>\n",
       "    <tr>\n",
       "      <th>mean</th>\n",
       "      <td>560.104608</td>\n",
       "      <td>559.240918</td>\n",
       "      <td>557.934018</td>\n",
       "    </tr>\n",
       "    <tr>\n",
       "      <th>std</th>\n",
       "      <td>56.121735</td>\n",
       "      <td>55.716931</td>\n",
       "      <td>54.778862</td>\n",
       "    </tr>\n",
       "    <tr>\n",
       "      <th>min</th>\n",
       "      <td>484.980011</td>\n",
       "      <td>487.283325</td>\n",
       "      <td>490.152225</td>\n",
       "    </tr>\n",
       "    <tr>\n",
       "      <th>25%</th>\n",
       "      <td>513.790008</td>\n",
       "      <td>514.534998</td>\n",
       "      <td>517.139999</td>\n",
       "    </tr>\n",
       "    <tr>\n",
       "      <th>50%</th>\n",
       "      <td>546.700012</td>\n",
       "      <td>544.063334</td>\n",
       "      <td>539.828895</td>\n",
       "    </tr>\n",
       "    <tr>\n",
       "      <th>75%</th>\n",
       "      <td>602.894989</td>\n",
       "      <td>600.933329</td>\n",
       "      <td>599.188331</td>\n",
       "    </tr>\n",
       "    <tr>\n",
       "      <th>max</th>\n",
       "      <td>691.690002</td>\n",
       "      <td>687.036682</td>\n",
       "      <td>675.893324</td>\n",
       "    </tr>\n",
       "  </tbody>\n",
       "</table>\n",
       "</div>"
      ],
      "text/plain": [
       "            Close         S_3         S_9\n",
       "count  243.000000  243.000000  243.000000\n",
       "mean   560.104608  559.240918  557.934018\n",
       "std     56.121735   55.716931   54.778862\n",
       "min    484.980011  487.283325  490.152225\n",
       "25%    513.790008  514.534998  517.139999\n",
       "50%    546.700012  544.063334  539.828895\n",
       "75%    602.894989  600.933329  599.188331\n",
       "max    691.690002  687.036682  675.893324"
      ]
     },
     "execution_count": 14,
     "metadata": {},
     "output_type": "execute_result"
    }
   ],
   "source": [
    "# Better look at the data\n",
    "Df.describe()"
   ]
  },
  {
   "cell_type": "markdown",
   "id": "18c0af88-d679-44bf-b77c-dfb3adf3e568",
   "metadata": {},
   "source": [
    "***\n",
    "### <b>Visualise the Data</b>"
   ]
  },
  {
   "cell_type": "code",
   "execution_count": 4,
   "id": "860e7781-3837-4053-a00f-b36bf4ec2de1",
   "metadata": {},
   "outputs": [
    {
     "data": {
      "image/png": "[encoded data removed]",
      "text/plain": [
       "<Figure size 720x360 with 1 Axes>"
      ]
     },
     "metadata": {
      "needs_background": "light"
     },
     "output_type": "display_data"
    }
   ],
   "source": [
    "# Only keep close columns \n",
    "Df=Df[['Close']] \n",
    "# Drop rows with missing values \n",
    "Df= Df.dropna() \n",
    "# Plot the closing price of GLD \n",
    "Df.Close.plot(figsize=(10,5)) \n",
    "plt.ylabel(\"NFLX Prices\")\n",
    "plt.show()"
   ]
  },
  {
   "cell_type": "markdown",
   "id": "b1a9eebf-d4e3-4821-931f-1214a3aaaab3",
   "metadata": {},
   "source": [
    "***\n",
    "### **Define explanatory variables**"
   ]
  },
  {
   "cell_type": "code",
   "execution_count": 5,
   "id": "fb415bc2-329d-4808-8201-826df15f5823",
   "metadata": {},
   "outputs": [
    {
     "data": {
      "text/html": [
       "<div>\n",
       "<style scoped>\n",
       "    .dataframe tbody tr th:only-of-type {\n",
       "        vertical-align: middle;\n",
       "    }\n",
       "\n",
       "    .dataframe tbody tr th {\n",
       "        vertical-align: top;\n",
       "    }\n",
       "\n",
       "    .dataframe thead th {\n",
       "        text-align: right;\n",
       "    }\n",
       "</style>\n",
       "<table border=\"1\" class=\"dataframe\">\n",
       "  <thead>\n",
       "    <tr style=\"text-align: right;\">\n",
       "      <th></th>\n",
       "      <th>S_3</th>\n",
       "      <th>S_9</th>\n",
       "    </tr>\n",
       "  </thead>\n",
       "  <tbody>\n",
       "    <tr>\n",
       "      <th>9</th>\n",
       "      <td>500.966665</td>\n",
       "      <td>507.271108</td>\n",
       "    </tr>\n",
       "    <tr>\n",
       "      <th>10</th>\n",
       "      <td>502.210002</td>\n",
       "      <td>504.506666</td>\n",
       "    </tr>\n",
       "    <tr>\n",
       "      <th>11</th>\n",
       "      <td>500.203328</td>\n",
       "      <td>502.392222</td>\n",
       "    </tr>\n",
       "    <tr>\n",
       "      <th>12</th>\n",
       "      <td>528.696676</td>\n",
       "      <td>511.931115</td>\n",
       "    </tr>\n",
       "    <tr>\n",
       "      <th>13</th>\n",
       "      <td>555.983348</td>\n",
       "      <td>519.814450</td>\n",
       "    </tr>\n",
       "  </tbody>\n",
       "</table>\n",
       "</div>"
      ],
      "text/plain": [
       "           S_3         S_9\n",
       "9   500.966665  507.271108\n",
       "10  502.210002  504.506666\n",
       "11  500.203328  502.392222\n",
       "12  528.696676  511.931115\n",
       "13  555.983348  519.814450"
      ]
     },
     "execution_count": 5,
     "metadata": {},
     "output_type": "execute_result"
    }
   ],
   "source": [
    "Df['S_3'] = Df['Close'].shift(1).rolling(window=3).mean() \n",
    "Df['S_9']= Df['Close'].shift(1).rolling(window=9).mean() \n",
    "Df= Df.dropna() \n",
    "X = Df[['S_3','S_9']] \n",
    "X.head()"
   ]
  },
  {
   "cell_type": "markdown",
   "id": "cfb6d2c4-7fb6-4c03-96f9-08a00de299aa",
   "metadata": {},
   "source": [
    "***\n",
    "### **Define explanatory variables**"
   ]
  },
  {
   "cell_type": "code",
   "execution_count": 6,
   "id": "e4ed10d2-1556-4aaa-a474-c39dfa8a7ea6",
   "metadata": {},
   "outputs": [
    {
     "data": {
      "text/plain": [
       "9     497.980011\n",
       "10    501.769989\n",
       "11    586.340027\n",
       "12    579.840027\n",
       "13    565.169983\n",
       "Name: Close, dtype: float64"
      ]
     },
     "execution_count": 6,
     "metadata": {},
     "output_type": "execute_result"
    }
   ],
   "source": [
    "y = Df['Close']\n",
    "y.head()"
   ]
  },
  {
   "cell_type": "markdown",
   "id": "9b7aae1b-1875-47c6-9a0c-b4a1c40597c4",
   "metadata": {},
   "source": [
    "***\n",
    "### **Split the data into train and test dataset**\n",
    "<ol>\n",
    "    <li>First 80% of the data is used for training and remaining data for testing\n",
    "    <li>X_train & y_train are training dataset\n",
    "    <li>X_test & y_test are test dataset\n",
    "</ol>"
   ]
  },
  {
   "cell_type": "code",
   "execution_count": 7,
   "id": "f04f268a-87b7-4886-bc59-5713d5b306ac",
   "metadata": {},
   "outputs": [],
   "source": [
    "t=.8 \n",
    "t = int(t*len(Df)) \n",
    "# Train dataset \n",
    "X_train = X[:t] \n",
    "y_train = y[:t]  \n",
    "# Test dataset \n",
    "X_test = X[t:] \n",
    "y_test = y[t:]"
   ]
  },
  {
   "cell_type": "markdown",
   "id": "ca1324ed-3ffa-4277-9503-ee507c65f722",
   "metadata": {},
   "source": [
    "***\n",
    "### **Create a linear regression model**\n",
    "\n",
    "If a mathematical relationship between the ‘x’ and ‘y’ variables which best explains the observed values of ‘y’ in terms of observed values of ‘x’ by fitting a line through a scatter plot then such an equation between x and y is called linear regression analysis.\n",
    "\n",
    "$Y = m1 * X1 + m2 * X2 + C NFLX price = m1 * 3 days moving average + m2 * 15 days moving average + c$"
   ]
  },
  {
   "cell_type": "code",
   "execution_count": 8,
   "id": "d4ec433e-7cde-47a8-8ee4-4b52ae18d87b",
   "metadata": {},
   "outputs": [],
   "source": [
    "linear = LinearRegression().fit(X_train,y_train)"
   ]
  },
  {
   "cell_type": "markdown",
   "id": "b51c8477-90c2-4a04-af96-50d6d6435847",
   "metadata": {},
   "source": [
    "***\n",
    "### **Predicting the NFLX prices**"
   ]
  },
  {
   "cell_type": "code",
   "execution_count": 9,
   "id": "26cb162d-2e1c-4ee1-a8cd-c2a2882a00e7",
   "metadata": {},
   "outputs": [
    {
     "data": {
      "image/png": "[encoded data removed]",
      "text/plain": [
       "<Figure size 720x360 with 1 Axes>"
      ]
     },
     "metadata": {
      "needs_background": "light"
     },
     "output_type": "display_data"
    }
   ],
   "source": [
    "predicted_price = linear.predict(X_test)  \n",
    "predicted_price = pd.DataFrame(predicted_price,index=y_test.index,columns = ['price'])  \n",
    "predicted_price.plot(figsize=(10,5))  \n",
    "y_test.plot()  \n",
    "plt.legend(['predicted_price','actual_price'])  \n",
    "plt.ylabel(\"NFLX Price\")  \n",
    "plt.show()\n"
   ]
  },
  {
   "cell_type": "markdown",
   "id": "96151776-4125-4a28-96a2-bca2d076518f",
   "metadata": {},
   "source": [
    "***\n",
    "### **Checking our Accuracy**"
   ]
  },
  {
   "cell_type": "code",
   "execution_count": 10,
   "id": "d666faac-5acf-4fc8-854e-b272efa84c3a",
   "metadata": {},
   "outputs": [
    {
     "data": {
      "text/plain": [
       "78.85"
      ]
     },
     "execution_count": 10,
     "metadata": {},
     "output_type": "execute_result"
    }
   ],
   "source": [
    "r2_score = linear.score(X[t:],y[t:])*100  \n",
    "float(\"{0:.2f}\".format(r2_score))\n"
   ]
  },
  {
   "cell_type": "markdown",
   "id": "c1c54efe-6313-46b4-9eb4-3a59cd82a239",
   "metadata": {},
   "source": [
    "The outputting prediction value is **78.85%** which isn't amazing. R-squared is always between 0 and 100%. A score close to 100% indicates that the model explains the NFLX prices well. This particular model does a mediocre job of predicting the next stock price."
   ]
  },
  {
   "cell_type": "code",
   "execution_count": null,
   "id": "304ab1de-17dd-4478-a788-4e733838dff8",
   "metadata": {},
   "outputs": [],
   "source": [
    "\n"
   ]
  },
  {
   "cell_type": "code",
   "execution_count": null,
   "id": "d7608b5c-5ecf-435c-b229-1c5f516b69ef",
   "metadata": {},
   "outputs": [],
   "source": []
  },
  {
   "cell_type": "code",
   "execution_count": null,
   "id": "77804f8b-b19b-409a-8ab2-29b5ed45d1b2",
   "metadata": {},
   "outputs": [],
   "source": []
  },
  {
   "cell_type": "code",
   "execution_count": null,
   "id": "9afa2cbc-9049-4d7c-85c8-97723f632fde",
   "metadata": {},
   "outputs": [],
   "source": []
  },
  {
   "cell_type": "code",
   "execution_count": null,
   "id": "0d208e58-f7fa-4422-b62f-8d084fb2a0a2",
   "metadata": {},
   "outputs": [],
   "source": []
  },
  {
   "cell_type": "code",
   "execution_count": null,
   "id": "ac7161bc-41cb-4d35-a8c9-5cd1aefe5ac1",
   "metadata": {},
   "outputs": [],
   "source": []
  },
  {
   "cell_type": "code",
   "execution_count": null,
   "id": "769ed893-8987-45fb-bc93-ba51b72621ec",
   "metadata": {},
   "outputs": [],
   "source": []
  },
  {
   "cell_type": "code",
   "execution_count": null,
   "id": "605c8927-7c53-41da-9d38-f17702ca460a",
   "metadata": {},
   "outputs": [],
   "source": []
  },
  {
   "cell_type": "code",
   "execution_count": null,
   "id": "56c20554-9de1-4244-84af-6a8c299c24c9",
   "metadata": {},
   "outputs": [],
   "source": []
  },
  {
   "cell_type": "code",
   "execution_count": null,
   "id": "dce0e805-8b89-40b6-b7c2-38d309a44a15",
   "metadata": {},
   "outputs": [],
   "source": []
  },
  {
   "cell_type": "code",
   "execution_count": null,
   "id": "f790624f-6882-47a6-abc9-624ad0c2b0a2",
   "metadata": {},
   "outputs": [],
   "source": []
  },
  {
   "cell_type": "markdown",
   "id": "3fff3b7a-a501-4183-b619-8ec45dc67e41",
   "metadata": {},
   "source": [
    "***\n",
    "\n",
    "### **Data Preprocessing** "
   ]
  },
  {
   "cell_type": "markdown",
   "id": "4486a87f-d4cd-424c-9e85-2c6621d779db",
   "metadata": {},
   "source": [
    "***\n",
    "\n",
    "### **Classification Report**"
   ]
  },
  {
   "cell_type": "markdown",
   "id": "5639bacc-41e4-4e85-b4c1-db466c2a4adb",
   "metadata": {},
   "source": [
    "### <b>Visualise the Data</b>"
   ]
  },
  {
   "cell_type": "code",
   "execution_count": null,
   "id": "9f60feb4-21ac-42b6-be19-200d38889318",
   "metadata": {},
   "outputs": [],
   "source": []
  },
  {
   "cell_type": "code",
   "execution_count": null,
   "id": "1680ad85-7c6b-4a19-bff6-10dfed5e0c4e",
   "metadata": {},
   "outputs": [],
   "source": []
  },
  {
   "cell_type": "code",
   "execution_count": null,
   "id": "70de9b4e-f8fc-46de-897e-83da14b0b5ea",
   "metadata": {},
   "outputs": [],
   "source": []
  },
  {
   "cell_type": "markdown",
   "id": "41dd7e7c-a175-4ebd-9af5-6af99fcfcb5d",
   "metadata": {},
   "source": [
    "# References\n",
    "***"
   ]
  },
  {
   "cell_type": "markdown",
   "id": "e9582e9e-f3f3-4db4-9bdd-c469bf971f99",
   "metadata": {
    "tags": []
   },
   "source": [
    "<b>[1]</b> Brownlee, J., 2021. A Gentle Introduction to Scikit-Learn. [online] Machine Learning Mastery. \n",
    "\n",
    "Available at: <https://machinelearningmastery.com/a-gentle-introduction-to-scikit-learn-a-python-machine-learning-library/> [Accessed 19 November 2021].\n",
    "\n",
    "\n",
    "<b>[2]</b>Scikit-learn.org. 2021. scikit-learn: machine learning in Python — scikit-learn 1.0.1 documentation. [online] \n",
    "\n",
    "Available at: <https://scikit-learn.org/stable/index.html> [Accessed 4 December 2021].\n",
    "\n",
    "**[3]** Malik, U., 2022. Implementing SVM and Kernel SVM with Python's Scikit-Learn. [online] Stack Abuse. \n",
    "\n",
    "Available at: <https://stackabuse.com/implementing-svm-and-kernel-svm-with-pythons-scikit-learn/> [Accessed 2 January 2022].\n",
    "\n",
    "**[4]** Kumar, R., 2022. Using Linear Regression To Predict AAPL (Apple stock) Prices In Python. [online] Medium. \n",
    "\n",
    "Available at: <https://medium.com/analytics-vidhya/using-linear-regression-to-predict-aapl-apple-stock-prices-in-python-1a629fbea15b> [Accessed 2 January 2022].\n",
    "\n",
    "**[5]** West, Z., 2022. Predicting Stock Prices with Linear Regression in Python - αlphαrithms. [online] αlphαrithms. \n",
    "\n",
    "Available at: <https://www.alpharithms.com/predicting-stock-prices-with-linear-regression-214618/> [Accessed 2 January 2022].\n"
   ]
  },
  {
   "cell_type": "markdown",
   "id": "6943d06f-c667-4b23-95db-ec58f44082a0",
   "metadata": {},
   "source": [
    "# Resources\n",
    "***"
   ]
  },
  {
   "cell_type": "code",
   "execution_count": null,
   "id": "e987e9f3-4eea-4346-bc4a-ad869656a43d",
   "metadata": {},
   "outputs": [],
   "source": []
  }
 ],
 "metadata": {
  "kernelspec": {
   "display_name": "Python 3 (ipykernel)",
   "language": "python",
   "name": "python3"
  },
  "language_info": {
   "codemirror_mode": {
    "name": "ipython",
    "version": 3
   },
   "file_extension": ".py",
   "mimetype": "text/x-python",
   "name": "python",
   "nbconvert_exporter": "python",
   "pygments_lexer": "ipython3",
   "version": "3.9.7"
  }
 },
 "nbformat": 4,
 "nbformat_minor": 5
}
