{
 "cells": [
  {
   "cell_type": "markdown",
   "id": "de159f2c-4281-4a4c-88a5-b8405948babc",
   "metadata": {},
   "source": [
    "<img src=\"img/title.gif\" alt=\"Drawing\" style=\"width: 1500px; height: 600px\"/>\n",
    "\n",
    "# <b>Introduction</b>\n",
    "***"
   ]
  },
  {
   "cell_type": "markdown",
   "id": "cde1b31b-e5e1-4443-84aa-a7d884778da8",
   "metadata": {},
   "source": [
    "This notebooks purpose is to give a gentle introduction to the concept of quantum computing, how it differs from regular computing and examples of Deutsch's Algorithm using Qiskit.\n",
    "\n",
    "In accordance with [GMIT's plagarism policy](https://www.gmit.ie/sites/default/files/public/general/docs/policy-plagiarism-2019.pdf), all work compiled in this notebook is owned by the author and the creators of the respective algorithms. All sources and aids used have been indicated as such. All texts either quoted directly or paraphrased have been indicated by in-text citations.\n",
    "\n"
   ]
  },
  {
   "cell_type": "markdown",
   "id": "dbaa108d-576c-4401-9e18-83cc7116b5fa",
   "metadata": {},
   "source": [
    "## <b>What is quantum computing?</b> \n",
    "***"
   ]
  },
  {
   "cell_type": "markdown",
   "id": "a4d1969c-20c5-4489-a1f6-e2321d570a58",
   "metadata": {},
   "source": [
    "## Why do we need quantum computing?\n"
   ]
  },
  {
   "cell_type": "markdown",
   "id": "0afad8d2-5e46-40be-9a79-175a2b3b9579",
   "metadata": {},
   "source": [
    "Since the early 60's, humans have steadily created computers that contain smaller and smaller components. These computer components are reaching sizes comparable to atoms meaning that we are approaching a physical limit to how small we can make them. "
   ]
  },
  {
   "cell_type": "markdown",
   "id": "7deeb438-c3ad-4337-9a44-26b31fba15a7",
   "metadata": {},
   "source": [
    "Computer chips contain modules, which contain logic gates, which contain transistors. Transistors are the simpliest form of a data processor in computing. \n",
    "These transistors act as switches that can either block or open the way for information to pass through.\n",
    "This information is made up of bits which can either be set to 0 or 1. Combinations of multiple bits can be used to represent more complex information. \n",
    "\n",
    "<img src=\"img/bits.png\" alt=\"Drawing\" style=\"width: 600px; height: 300px\">\n",
    "<sub><sup>Image courtesy of: https://www.youtube.com/watch?v=l5hcamUUtzA </sup></sub>\n"
   ]
  },
  {
   "cell_type": "markdown",
   "id": "40a045ca-62e4-4aa7-af23-974bdf747f9b",
   "metadata": {},
   "source": [
    "Put simply, a transistor is an electric switch. Electricity is just electrons moving from one place to another, where a transistor can block the flow of electrons in one direction. With parts getting increasingly smaller, the average size of a transistor being 14 nanometers, quantum physics begin to make the passage of electrons more complicated. Through a process named \"Quantum Tunnelling\", electrons may just transfer themselves to the other side of the block the transistor provides.\n",
    "\n",
    "<img src=\"img/quantum-tunnelling.gif\" alt=\"quantum tunnelling\" style=\"width: 600px; height: 300px\"/>\n",
    "<sub><sup>Image courtesy of: https://www.youtube.com/watch?v=JhHMJCUmq28&t=152s </sup></sub>\n"
   ]
  },
  {
   "cell_type": "markdown",
   "id": "2286e91d-41cd-479b-a2e6-9876fd3cdbcf",
   "metadata": {},
   "source": [
    "Utilising these strange properties of quantum physics led to the development of the quantum computer. "
   ]
  },
  {
   "cell_type": "markdown",
   "id": "dee51d4d-9675-4f9a-aef2-e9d4ed562309",
   "metadata": {},
   "source": [
    "## What's a quantum computer?"
   ]
  },
  {
   "cell_type": "markdown",
   "id": "258f7290-9e4e-4ddb-8c9c-3a489a01e977",
   "metadata": {},
   "source": [
    "A quantum computer utilises quantum mechanics to produce processing power unlike what typical computers are capable of producing. While traditional computers use bits which can be set to either 0 or 1,  quantum computers use qubits, which are similar to electrons or photons as they are all subatomic particles. Qubits possess various properties that make them stand out from their binary counterpart, especially when there are a connected group of them. A group of qubits can provide way more processing power than the same number of binary bits.  \n",
    "\n",
    "### Superposition\n",
    "Qubits possess the unique ability to represent numerous possible combinations of 0 or 1 which is what seperates them from the traditional bit. This property of the qubit is called superposition. Qubits can be manipulated to be placed in their superposition state by using precision lasers or microwave beams.\n",
    "\n",
    "Calculations can be solved exponentially faster with a quantum computer when several qubits in are put into superposition. The final result of a calculation emerges only once the qubits are measured, which immediately causes their state to collapse back into either a 0 or 1.\n",
    "\n",
    "### Entanglement\n",
    "Pairs of qubits can be \"entangled\". This means that two qubits thats are a pair can be put into a single quantum state. If the state of one of the qubits is changed, the other quibit will instantaneously change to the state of the opposite one. Distance does not affect the entanglement of two bits, so a pair of qubits will change even if the distance is vast. \n"
   ]
  },
  {
   "cell_type": "markdown",
   "id": "54d09b5e-3ec2-4cd3-9ae5-d927df111262",
   "metadata": {},
   "source": [
    "## <b>Comparisons of quantum computing and classical computing</b>\n",
    "***"
   ]
  },
  {
   "cell_type": "markdown",
   "id": "435b3219-cc76-48b4-8ff5-58388a546d2f",
   "metadata": {},
   "source": [
    "<img src=\"img/comparison.png\" alt=\"comparison\" style=\"width: 600px; height: 300px\"/>\n",
    "<sub><sup>Image courtesy of: https://www.youtube.com/watch?v=JhHMJCUmq28&t=152s </sup></sub>"
   ]
  },
  {
   "cell_type": "markdown",
   "id": "803bd7f0-51d9-4c3e-a3eb-00590b761a4f",
   "metadata": {},
   "source": [
    "We now know what quantum computing is and the demand for further development with quantum computers. We understand that a traditional computer utilises bits for transfering information and a quantum computer utilises qubits, but what are the differences between a quantum computer and a home desktop?\n",
    "\n",
    "## Quantum computing includes the following properties:\n",
    "    \n",
    "<ul>\n",
    "    <li> Is a high speed parallel computer that utilises quantum mechanics.\n",
    "    <li> Utilises qubits for data transfer.\n",
    "    <li> Qubits are in a superposition of either 0 or 1 and will only collapse into a state once measured.\n",
    "    <li> Information processing is carried out with quantum logic gates.\n",
    "    <li> Infinitely more useful in areas like database searching and simulating quantum mechanics.\n",
    "</ul> \n",
    "\n",
    "## Classical computing includes the following properties:\n",
    "\n",
    "<ul>\n",
    "    <li> Is a large scale integrated multi-purpose computer that utilises a CPU. \n",
    "    <li> Utilises bits for data transfer.\n",
    "    <li> Bits can only be a value of 0 or 1.\n",
    "    <li> Information processing is carried out with logic gates e.g AND, NAND, OR, XOR. These gates only work in sequential order\n",
    "    <li> Suitable for home use and internet browsing, vastly inferior in subjects like database searching and simulating quantum mechanics.\n",
    "</ul>"
   ]
  },
  {
   "cell_type": "markdown",
   "id": "6bca645b-fa49-494a-92ff-a9ad793d4a80",
   "metadata": {},
   "source": [
    "***\n",
    "## <b>Deutsch’s algorithm</b>\n",
    "***"
   ]
  },
  {
   "cell_type": "markdown",
   "id": "3ee917de-4a13-4ed6-829a-eab5d2e745c8",
   "metadata": {},
   "source": [
    "**David Deutsch** was born in Haifa, Israel. He studied physics at Cambridge and Oxford Universities and after several years at the University of Texas at Austin, he returned to Oxford, where he now lives and works. Since 1999, He has been a non-stipendiary Visiting Professor of Physics at the University of Oxford, where he is a founder member of the Centre for Quantum Computation at the Clarendon Laboratory. \n",
    "\n",
    "<img src=\"img/deutsch.png\" alt=\"comparison\" style=\"width: 600px; height: 400px\"/>\n",
    "<sub><sup>Image courtesy of: https://nautil.us/blog/david-deutsch-explains-why-its-good-to-be-wrong </sup></sub>"
   ]
  },
  {
   "cell_type": "code",
   "execution_count": null,
   "id": "c168589e-e067-4cc7-97d7-5583b04dfa16",
   "metadata": {},
   "outputs": [],
   "source": []
  },
  {
   "cell_type": "code",
   "execution_count": null,
   "id": "1cd44168-76f9-4258-9c6d-668a909bc38f",
   "metadata": {},
   "outputs": [],
   "source": []
  },
  {
   "cell_type": "code",
   "execution_count": null,
   "id": "5f85ef56-0781-4f6e-a350-50490163554a",
   "metadata": {},
   "outputs": [],
   "source": []
  },
  {
   "cell_type": "code",
   "execution_count": null,
   "id": "369dafe3-4993-41fb-8156-d06001f18834",
   "metadata": {},
   "outputs": [],
   "source": []
  },
  {
   "cell_type": "code",
   "execution_count": null,
   "id": "e3b8f967-5f77-4655-b6c9-8f9d78436e41",
   "metadata": {},
   "outputs": [],
   "source": []
  },
  {
   "cell_type": "code",
   "execution_count": null,
   "id": "584592ce-938d-4234-882c-c996e4306385",
   "metadata": {},
   "outputs": [],
   "source": []
  },
  {
   "cell_type": "code",
   "execution_count": null,
   "id": "6ca3dfb9-7852-474a-a66f-27d374e03029",
   "metadata": {},
   "outputs": [],
   "source": []
  },
  {
   "cell_type": "code",
   "execution_count": null,
   "id": "5cce2e0a-928c-44b0-a225-12bd8af02d5f",
   "metadata": {},
   "outputs": [],
   "source": []
  },
  {
   "cell_type": "code",
   "execution_count": null,
   "id": "c59ddeb8-7b04-4c59-a5d4-e5b44b894f27",
   "metadata": {},
   "outputs": [],
   "source": []
  },
  {
   "cell_type": "code",
   "execution_count": null,
   "id": "32cddb2d-df6e-4c18-9c13-b748202c0407",
   "metadata": {},
   "outputs": [],
   "source": []
  },
  {
   "cell_type": "markdown",
   "id": "aaba40e6-2f74-4f0d-bbc7-d319653e56af",
   "metadata": {},
   "source": [
    "### Qiskit application"
   ]
  },
  {
   "cell_type": "code",
   "execution_count": null,
   "id": "f9997543-11e3-45c8-b27b-34b49689229d",
   "metadata": {},
   "outputs": [],
   "source": []
  },
  {
   "cell_type": "markdown",
   "id": "f66aa32d-3e28-4313-95b7-a882de22deb5",
   "metadata": {},
   "source": [
    "## Conclusions\n",
    "***"
   ]
  },
  {
   "cell_type": "code",
   "execution_count": null,
   "id": "4b54473f-defb-4cba-a543-25e565bafca6",
   "metadata": {},
   "outputs": [],
   "source": []
  },
  {
   "cell_type": "code",
   "execution_count": null,
   "id": "6dcd1a4a-e206-4ac3-a89c-9bd5f622a090",
   "metadata": {},
   "outputs": [],
   "source": []
  },
  {
   "cell_type": "markdown",
   "id": "41dd7e7c-a175-4ebd-9af5-6af99fcfcb5d",
   "metadata": {},
   "source": [
    "# References\n",
    "***"
   ]
  },
  {
   "cell_type": "markdown",
   "id": "f7fd6ffb-7074-42b7-ad4b-dc1768598d1e",
   "metadata": {},
   "source": [
    "[1] Walker, K., 2022. How Quantum Computing Works. [online] Inverse.\n",
    "\n",
    "Available at: <https://www.inverse.com/article/8966-how-quantum-computing-works> [Accessed 1 January 2022].\n",
    "\n",
    "[2] Subramanian, R., 2022. 10 Differences between Classical computing and Quantum computing. [online] Medium. \n",
    "\n",
    "Available at: <https://rajprasathsubramanian89.medium.com/10-difference-between-classical-computing-and-quantum-computing-5e1777aa590d> [Accessed 1 January 2022].\n",
    "\n",
    "[3] Deutsch, D., 2022. About Me – David Deutsch. [online] Daviddeutsch.org.uk. \n",
    "\n",
    "Available at: <https://www.daviddeutsch.org.uk/about-me/> [Accessed 1 January 2022]."
   ]
  },
  {
   "cell_type": "markdown",
   "id": "6943d06f-c667-4b23-95db-ec58f44082a0",
   "metadata": {},
   "source": [
    "# Resources\n",
    "***"
   ]
  },
  {
   "cell_type": "code",
   "execution_count": null,
   "id": "e987e9f3-4eea-4346-bc4a-ad869656a43d",
   "metadata": {},
   "outputs": [],
   "source": []
  }
 ],
 "metadata": {
  "kernelspec": {
   "display_name": "Python 3",
   "language": "python",
   "name": "python3"
  },
  "language_info": {
   "codemirror_mode": {
    "name": "ipython",
    "version": 3
   },
   "file_extension": ".py",
   "mimetype": "text/x-python",
   "name": "python",
   "nbconvert_exporter": "python",
   "pygments_lexer": "ipython3",
   "version": "3.8.8"
  }
 },
 "nbformat": 4,
 "nbformat_minor": 5
}
