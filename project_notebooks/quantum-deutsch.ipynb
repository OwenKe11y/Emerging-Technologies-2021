{
 "cells": [
  {
   "cell_type": "markdown",
   "id": "de159f2c-4281-4a4c-88a5-b8405948babc",
   "metadata": {},
   "source": [
    "<img src=\"img/title.gif\" alt=\"Drawing\" style=\"width: 1500px; height: 600px\"/>\n",
    "\n",
    "# <b>Introduction</b>\n",
    "***"
   ]
  },
  {
   "cell_type": "markdown",
   "id": "cde1b31b-e5e1-4443-84aa-a7d884778da8",
   "metadata": {},
   "source": [
    "This notebooks purpose is to give a gentle introduction to the concept of quantum computing, how it differs from regular computing and examples of Deutsch's Algorithm using Qiskit.\n",
    "\n",
    "In accordance with [GMIT's plagarism policy](https://www.gmit.ie/sites/default/files/public/general/docs/policy-plagiarism-2019.pdf), all work compiled in this notebook is owned by the author and the creators of the respective algorithms. All sources and aids used have been indicated as such. All texts either quoted directly or paraphrased have been indicated by in-text citations.\n",
    "\n"
   ]
  },
  {
   "cell_type": "markdown",
   "id": "dbaa108d-576c-4401-9e18-83cc7116b5fa",
   "metadata": {},
   "source": [
    "# <b>What is quantum computing?</b> \n",
    "***"
   ]
  },
  {
   "cell_type": "markdown",
   "id": "a4d1969c-20c5-4489-a1f6-e2321d570a58",
   "metadata": {},
   "source": [
    "## Why do we need quantum computing?\n"
   ]
  },
  {
   "cell_type": "markdown",
   "id": "0afad8d2-5e46-40be-9a79-175a2b3b9579",
   "metadata": {},
   "source": [
    "Since the early 60's, humans have steadily created computers that contain smaller and smaller components. These computer components are reaching sizes comparable to atoms meaning that we are approaching a physical limit to how small we can make them. "
   ]
  },
  {
   "cell_type": "markdown",
   "id": "7deeb438-c3ad-4337-9a44-26b31fba15a7",
   "metadata": {},
   "source": [
    "Computer chips contain modules, which contain logic gates, which contain transistors. Transistors are the simpliest form of a data processor in computing. \n",
    "These transistors act as switches that can either block or open the way for information to pass through.\n",
    "This information is made up of bits which can either be set to 0 or 1. Combinations of multiple bits can be used to represent more complex information. \n",
    "\n",
    "<img src=\"img/bits.png\" alt=\"Drawing\" style=\"width: 600px; height: 300px\"><br>\n",
    "<sub>Representation of bits</sub>\n",
    "<br>\n",
    "<sub><sup>Image courtesy of: https://www.youtube.com/watch?v=l5hcamUUtzA </sup></sub>\n"
   ]
  },
  {
   "cell_type": "markdown",
   "id": "40a045ca-62e4-4aa7-af23-974bdf747f9b",
   "metadata": {},
   "source": [
    "Put simply, a transistor is an electric switch. Electricity is just electrons moving from one place to another, where a transistor can block the flow of electrons in one direction. With parts getting increasingly smaller, the average size of a transistor being 14 nanometers, quantum physics begin to make the passage of electrons more complicated. Through a process named \"Quantum Tunnelling\", electrons may just transfer themselves to the other side of the block the transistor provides.\n",
    "\n",
    "<img src=\"img/quantum-tunnelling.gif\" alt=\"quantum tunnelling\" style=\"width: 600px; height: 300px\"/><br>\n",
    "<sub>Gif representation of quantum tunnelling</sub>\n",
    "<br>\n",
    "<sub><sup>Image courtesy of: https://www.youtube.com/watch?v=JhHMJCUmq28&t=152s </sup></sub>\n"
   ]
  },
  {
   "cell_type": "markdown",
   "id": "2286e91d-41cd-479b-a2e6-9876fd3cdbcf",
   "metadata": {},
   "source": [
    "Utilising these strange properties of quantum physics led to the development of the quantum computer. "
   ]
  },
  {
   "cell_type": "markdown",
   "id": "dee51d4d-9675-4f9a-aef2-e9d4ed562309",
   "metadata": {},
   "source": [
    "## What's a quantum computer?"
   ]
  },
  {
   "cell_type": "markdown",
   "id": "258f7290-9e4e-4ddb-8c9c-3a489a01e977",
   "metadata": {},
   "source": [
    "A quantum computer utilises quantum mechanics to produce processing power unlike what typical computers are capable of producing. While traditional computers use bits which can be set to either 0 or 1,  quantum computers use qubits, which are similar to electrons or photons as they are all subatomic particles. Qubits possess various properties that make them stand out from their binary counterpart, especially when there are a connected group of them. A group of qubits can provide way more processing power than the same number of binary bits.  \n",
    "\n",
    "### Superposition\n",
    "Qubits possess the unique ability to represent numerous possible combinations of 0 or 1 which is what seperates them from the traditional bit. This property of the qubit is called superposition. Qubits can be manipulated to be placed in their superposition state by using precision lasers or microwave beams.\n",
    "\n",
    "Calculations can be solved exponentially faster with a quantum computer when several qubits in are put into superposition. The final result of a calculation emerges only once the qubits are measured, which immediately causes their state to collapse back into either a 0 or 1.\n",
    "\n",
    "### Entanglement\n",
    "Pairs of qubits can be \"entangled\". This means that two qubits thats are a pair can be put into a single quantum state. If the state of one of the qubits is changed, the other quibit will instantaneously change to the state of the opposite one. Distance does not affect the entanglement of two bits, so a pair of qubits will change even if the distance is vast. \n"
   ]
  },
  {
   "cell_type": "markdown",
   "id": "54d09b5e-3ec2-4cd3-9ae5-d927df111262",
   "metadata": {},
   "source": [
    "## <b>Comparisons of quantum computing and classical computing</b>\n",
    "***"
   ]
  },
  {
   "cell_type": "markdown",
   "id": "435b3219-cc76-48b4-8ff5-58388a546d2f",
   "metadata": {},
   "source": [
    "<img src=\"img/comparison.png\" alt=\"comparison\" style=\"width: 600px; height: 300px\"/>\n",
    "\n",
    "<sub><sup>Image courtesy of: https://www.youtube.com/watch?v=JhHMJCUmq28&t=152s </sup></sub>"
   ]
  },
  {
   "cell_type": "markdown",
   "id": "803bd7f0-51d9-4c3e-a3eb-00590b761a4f",
   "metadata": {},
   "source": [
    "We now know what quantum computing is and the demand for further development with quantum computers. We understand that a traditional computer utilises bits for transfering information and a quantum computer utilises qubits, but what are the differences between a quantum computer and a home desktop?\n",
    "\n",
    "## Quantum computing includes the following properties:\n",
    "    \n",
    "<ul>\n",
    "    <li> Is a high speed parallel computer that utilises quantum mechanics.\n",
    "    <li> Utilises qubits for data transfer.\n",
    "    <li> Qubits are in a superposition of either 0 or 1 and will only collapse into a state once measured.\n",
    "    <li> Information processing is carried out with quantum logic gates.\n",
    "    <li> Infinitely more useful in areas like database searching and simulating quantum mechanics.\n",
    "</ul> \n",
    "\n",
    "## Classical computing includes the following properties:\n",
    "\n",
    "<ul>\n",
    "    <li> Is a large scale integrated multi-purpose computer that utilises a CPU. \n",
    "    <li> Utilises bits for data transfer.\n",
    "    <li> Bits can only be a value of 0 or 1.\n",
    "    <li> Information processing is carried out with logic gates e.g AND, NAND, OR, XOR. These gates only work in sequential order\n",
    "    <li> Suitable for home use and internet browsing, vastly inferior in subjects like database searching and simulating quantum mechanics.\n",
    "</ul>"
   ]
  },
  {
   "cell_type": "markdown",
   "id": "6bca645b-fa49-494a-92ff-a9ad793d4a80",
   "metadata": {},
   "source": [
    "***\n",
    "# <b>Deutsch’s algorithm</b>\n",
    "***"
   ]
  },
  {
   "cell_type": "markdown",
   "id": "3ee917de-4a13-4ed6-829a-eab5d2e745c8",
   "metadata": {},
   "source": [
    "## Introduction\n",
    "\n",
    "**David Deutsch** was born in Haifa, Israel. He studied physics at Cambridge and Oxford Universities and after several years at the University of Texas at Austin, he returned to Oxford, where he now lives and works. Since 1999, He has been a non-stipendiary Visiting Professor of Physics at the University of Oxford, where he is a founder member of the Centre for Quantum Computation at the Clarendon Laboratory. \n",
    "\n",
    "<img src=\"img/deutsch.png\" alt=\"comparison\" style=\"width: 600px; height: 400px\"/><br>\n",
    "<sub>David Deutsch</sub>\n",
    "<br>\n",
    "<sub><sup>Image courtesy of: https://nautil.us/blog/david-deutsch-explains-why-its-good-to-be-wrong </sup></sub>"
   ]
  },
  {
   "cell_type": "markdown",
   "id": "d3b9a197-837b-493b-a525-53f7880f280e",
   "metadata": {},
   "source": [
    "## Deutsch-Jozsa algorithm"
   ]
  },
  {
   "cell_type": "markdown",
   "id": "b74a8508-03a5-463b-b4f2-a24020a348dd",
   "metadata": {},
   "source": [
    "The Deutsch-Jozsa algorithm was the first to show a separation between the quantum and classical difficulty of a problem. This algorithm demonstrates the significance of allowing quantum amplitudes to take both positive and negative values, as opposed to classical probabilities that are always non-negative."
   ]
  },
  {
   "cell_type": "markdown",
   "id": "45d9a20d-86d3-4335-98b9-40c87bfef07a",
   "metadata": {},
   "source": [
    "## The main problem"
   ]
  },
  {
   "cell_type": "markdown",
   "id": "63461ddb-e790-4197-90b1-93a44021d80a",
   "metadata": {},
   "source": [
    "Quantum computers are way-slower than classical computers in mathematical calculations. But, there are a certain set of problems that are designed to leverage the superposition capability of qubits to get to the solution in a faster way.\n",
    "\n",
    "Deutsch-Jozsa is one such algorithm proposed by David Deutsch and Richard Jozsa in 1992.\n",
    "\n",
    "In the Deutsch–Jozsa problem, we are given a black box quantum computer implements some function that takes n-digit binary values as input and produces either a 0 or a 1 as output for each such value. We are promised that the function is either constant which displays 0 on all outputs or 1 on all outputs, or balanced which returns 1 for half of the input domain and 0 for the other half. The task then is to determine if the function is constant or balanced by using the black box quantum computer.\n",
    "\n",
    "Below is a representation of balanced and constant functions in code using the Classical Algorithm.\n",
    "\n"
   ]
  },
  {
   "cell_type": "markdown",
   "id": "f8a83f2c-93c9-4f9a-9a0e-be4da9a8d01e",
   "metadata": {},
   "source": [
    "***\n",
    "### **Setup**"
   ]
  },
  {
   "cell_type": "code",
   "execution_count": 1,
   "id": "584592ce-938d-4234-882c-c996e4306385",
   "metadata": {},
   "outputs": [],
   "source": [
    "# Random selections.\n",
    "import random\n",
    "\n",
    "# Permutations and combinations.\n",
    "import itertools"
   ]
  },
  {
   "cell_type": "markdown",
   "id": "c540d5bc-745c-49fb-831f-efcb9d6941fa",
   "metadata": {},
   "source": [
    "***"
   ]
  },
  {
   "cell_type": "markdown",
   "id": "a42a2638-c5e8-4ce5-84b5-a5606a50e605",
   "metadata": {},
   "source": [
    "### **Generate balanced and constant functions and put them into a list**"
   ]
  },
  {
   "cell_type": "code",
   "execution_count": 5,
   "id": "5cce2e0a-928c-44b0-a225-12bd8af02d5f",
   "metadata": {},
   "outputs": [
    {
     "data": {
      "text/plain": [
       "[0, 0, 0, 0]"
      ]
     },
     "execution_count": 5,
     "metadata": {},
     "output_type": "execute_result"
    }
   ],
   "source": [
    "# The zeros constant function.\n",
    "[0] * 2**n"
   ]
  },
  {
   "cell_type": "code",
   "execution_count": 7,
   "id": "c59ddeb8-7b04-4c59-a5d4-e5b44b894f27",
   "metadata": {},
   "outputs": [
    {
     "data": {
      "text/plain": [
       "[1, 1, 1, 1]"
      ]
     },
     "execution_count": 7,
     "metadata": {},
     "output_type": "execute_result"
    }
   ],
   "source": [
    "# The ones constant function.\n",
    "[1] * 2**n"
   ]
  },
  {
   "cell_type": "code",
   "execution_count": 8,
   "id": "32cddb2d-df6e-4c18-9c13-b748202c0407",
   "metadata": {},
   "outputs": [
    {
     "data": {
      "text/plain": [
       "[[1, 1, 0, 0],\n",
       " [1, 0, 1, 0],\n",
       " [1, 0, 0, 1],\n",
       " [0, 1, 1, 0],\n",
       " [0, 1, 0, 1],\n",
       " [0, 0, 1, 1]]"
      ]
     },
     "execution_count": 8,
     "metadata": {},
     "output_type": "execute_result"
    }
   ],
   "source": [
    "# Generate the balanced functions.\n",
    "# Adapted from https://stackoverflow.com/a/43817007\n",
    "def balanced_functions(noinputbits):\n",
    "    # The length of the list is 2 to power of noinputbits.\n",
    "    size = 2**noinputbits\n",
    "    # The nubmer of ones is half the length of that list.\n",
    "    count = size // 2\n",
    "    # Generate all positions for 1's.\n",
    "    for positions in itertools.combinations(range(size), count):\n",
    "        # Create a list of zeros.\n",
    "        p = [0] * size\n",
    "        # Set positions to 1's.\n",
    "        for i in positions:\n",
    "            p[i] = 1\n",
    "        # Generate the list.\n",
    "        yield p\n",
    "\n",
    "list(balanced_functions(2))"
   ]
  },
  {
   "cell_type": "code",
   "execution_count": 9,
   "id": "c03a41aa-322b-44fa-8916-c8f7249a9b2f",
   "metadata": {},
   "outputs": [],
   "source": [
    "# Generate all the constant and balanced functions.\n",
    "def generate_functions(n):\n",
    "    return list(balanced_functions(n)) + [[0] * 2**n, [1] * 2**n]"
   ]
  },
  {
   "cell_type": "code",
   "execution_count": 11,
   "id": "3143a33b-808c-49eb-9bce-f399447b94e6",
   "metadata": {},
   "outputs": [
    {
     "data": {
      "text/plain": [
       "[[1, 1, 0, 0],\n",
       " [1, 0, 1, 0],\n",
       " [1, 0, 0, 1],\n",
       " [0, 1, 1, 0],\n",
       " [0, 1, 0, 1],\n",
       " [0, 0, 1, 1],\n",
       " [0, 0, 0, 0],\n",
       " [1, 1, 1, 1]]"
      ]
     },
     "execution_count": 11,
     "metadata": {},
     "output_type": "execute_result"
    }
   ],
   "source": [
    "# Generate all functions.\n",
    "generate_functions(n)"
   ]
  },
  {
   "cell_type": "code",
   "execution_count": 12,
   "id": "1486c945-c599-455e-9658-7009933251ec",
   "metadata": {},
   "outputs": [],
   "source": [
    "def randomf(n):\n",
    "    # Get all balanced and constant functions as lists.\n",
    "    funcs = generate_functions(n)\n",
    "    # Return a random function as a list.\n",
    "    return random.choice(funcs)"
   ]
  },
  {
   "cell_type": "code",
   "execution_count": 13,
   "id": "ad0ffd05-e61a-4f5d-903d-c1044de02ac6",
   "metadata": {},
   "outputs": [],
   "source": [
    "# Call randomf for two input bits.\n",
    "f = randomf(2)"
   ]
  },
  {
   "cell_type": "code",
   "execution_count": 14,
   "id": "3c8d5d35-6a8e-4605-bc41-cb8a4c0aa151",
   "metadata": {},
   "outputs": [
    {
     "data": {
      "text/plain": [
       "[1, 1, 1, 1]"
      ]
     },
     "execution_count": 14,
     "metadata": {},
     "output_type": "execute_result"
    }
   ],
   "source": [
    "# It's just a list for now.\n",
    "f"
   ]
  },
  {
   "cell_type": "code",
   "execution_count": 15,
   "id": "5eade5b3-cedd-4f6d-9cef-62ed243164b9",
   "metadata": {},
   "outputs": [],
   "source": [
    "# Let's make it a function.\n",
    "def randomf(n):\n",
    "    # Get all balanced and constant functions as lists.\n",
    "    funcs = generate_functions(n)\n",
    "    # Pick one at random.\n",
    "    retvals = random.choice(funcs)\n",
    "    # Create a function from the list.\n",
    "    def f(*x):\n",
    "        # Reverse the bits.\n",
    "        x = x[::-1]\n",
    "        # Running total for position in list for output bit.\n",
    "        retpos = 0\n",
    "        # Loop through the elements in x (reversed).\n",
    "        for i in range(len(x)):\n",
    "            # Multiply i pos of x by 2^i.\n",
    "            retpos = retpos + (x[i] * 2**i)\n",
    "        # List position.\n",
    "        return retvals[retpos]\n",
    "    # Function returns a function.\n",
    "    return f"
   ]
  },
  {
   "cell_type": "code",
   "execution_count": 17,
   "id": "2346e417-3476-47ec-8919-10f742fe92ce",
   "metadata": {},
   "outputs": [
    {
     "data": {
      "text/plain": [
       "<function __main__.randomf.<locals>.f(*x)>"
      ]
     },
     "execution_count": 17,
     "metadata": {},
     "output_type": "execute_result"
    }
   ],
   "source": [
    "# Get a random function that takes two bits as input.\n",
    "randomf(2)"
   ]
  },
  {
   "cell_type": "code",
   "execution_count": 28,
   "id": "5e28c11e-92c8-4145-8f47-31bef04c2330",
   "metadata": {},
   "outputs": [],
   "source": [
    "# Get a random function that takes two bits as input.\n",
    "f = randomf(2)"
   ]
  },
  {
   "cell_type": "code",
   "execution_count": 29,
   "id": "5bd50476-4f6c-4933-9b96-7018087816d5",
   "metadata": {},
   "outputs": [
    {
     "data": {
      "text/plain": [
       "0"
      ]
     },
     "execution_count": 29,
     "metadata": {},
     "output_type": "execute_result"
    }
   ],
   "source": [
    "# Sample calls.\n",
    "f(1, 1)"
   ]
  },
  {
   "cell_type": "code",
   "execution_count": 21,
   "id": "7f7cb208-db29-4b50-9a54-8c47ed2da312",
   "metadata": {},
   "outputs": [
    {
     "data": {
      "text/plain": [
       "1"
      ]
     },
     "execution_count": 21,
     "metadata": {},
     "output_type": "execute_result"
    }
   ],
   "source": [
    "# Sample calls.\n",
    "f(0, 1)"
   ]
  },
  {
   "cell_type": "markdown",
   "id": "9c61c587-8ddb-4b81-a3aa-79431a45ccb5",
   "metadata": {},
   "source": [
    "***"
   ]
  },
  {
   "cell_type": "markdown",
   "id": "f3dbf4cd-25a2-487b-ba38-666d3584cc1c",
   "metadata": {},
   "source": [
    "### **Classical Algorithm**"
   ]
  },
  {
   "cell_type": "code",
   "execution_count": 30,
   "id": "04ca891d-b22a-4344-91a3-41502504dc4b",
   "metadata": {},
   "outputs": [],
   "source": [
    "# Number of input bits.\n",
    "n = 2"
   ]
  },
  {
   "cell_type": "code",
   "execution_count": 31,
   "id": "cba375ba-2b00-46da-96fd-a2884d9f1e1f",
   "metadata": {},
   "outputs": [],
   "source": [
    "# Generate a random constant or balanced function\n",
    "# with n in put bits.\n",
    "f = randomf(n)"
   ]
  },
  {
   "cell_type": "code",
   "execution_count": 32,
   "id": "a277cb96-d741-4e52-9a64-29687b6de88f",
   "metadata": {},
   "outputs": [
    {
     "data": {
      "text/plain": [
       "[(0, 0), (0, 1), (1, 0), (1, 1)]"
      ]
     },
     "execution_count": 32,
     "metadata": {},
     "output_type": "execute_result"
    }
   ],
   "source": [
    "# Adapted from: https://stackoverflow.com/a/35313967\n",
    "list(itertools.product(*[(0, 1)] * n))"
   ]
  },
  {
   "cell_type": "code",
   "execution_count": 33,
   "id": "ac38113f-ad29-4782-93d2-b5c14af896dc",
   "metadata": {},
   "outputs": [],
   "source": [
    "def balanced_or_constant(f, n):\n",
    "    # Presume f is constant.\n",
    "    constant = True\n",
    "    # Last returned value.\n",
    "    last = None\n",
    "    # Keep track of number of iterations.\n",
    "    i = 0\n",
    "    # Loop through all possible inputs.\n",
    "    for inputs in itertools.product(*[(0, 1)] * n):\n",
    "        # Try this input on f.\n",
    "        current = f(*inputs)\n",
    "        # Print a debug message.\n",
    "        print(f\"Trying: {inputs}  Return: {current}  Last: {last}\")\n",
    "        # Compare last to current.\n",
    "        if last is not None and current != last:\n",
    "            # Tell the user f is balanced.\n",
    "            constant = False\n",
    "            break\n",
    "        last = current\n",
    "        # Increment the iteration count.\n",
    "        i = i + 1\n",
    "        # Have we performed 2**(n-1) + 1 iterations.\n",
    "        if i > 2**(n-1):\n",
    "            break\n",
    "    if constant:\n",
    "        print(\"Constant\")\n",
    "    else:\n",
    "        print(\"Balanced\")"
   ]
  },
  {
   "cell_type": "code",
   "execution_count": 34,
   "id": "9b851e31-cfbc-49d6-bd95-cbe0079e6ecf",
   "metadata": {},
   "outputs": [
    {
     "name": "stdout",
     "output_type": "stream",
     "text": [
      "Trying: (0, 0)  Return: 0  Last: None\n",
      "Trying: (0, 1)  Return: 1  Last: 0\n",
      "Balanced\n"
     ]
    }
   ],
   "source": [
    "balanced_or_constant(f, n)"
   ]
  },
  {
   "cell_type": "markdown",
   "id": "14095358-b0d6-485a-8283-436422cd9bc6",
   "metadata": {},
   "source": [
    "***\n",
    "### **Inputting more than two bits**"
   ]
  },
  {
   "cell_type": "code",
   "execution_count": 38,
   "id": "49fac846-f12e-4ef3-a945-73c22411457f",
   "metadata": {},
   "outputs": [],
   "source": [
    "# Four input bits.\n",
    "n = 4"
   ]
  },
  {
   "cell_type": "code",
   "execution_count": 39,
   "id": "112b85ab-9698-4aa9-b42b-d02592174e03",
   "metadata": {},
   "outputs": [],
   "source": [
    "# Generate random function.\n",
    "f = randomf(n)"
   ]
  },
  {
   "cell_type": "code",
   "execution_count": 40,
   "id": "fff3ea46-deff-4100-85ef-b0544043a2f4",
   "metadata": {},
   "outputs": [
    {
     "name": "stdout",
     "output_type": "stream",
     "text": [
      "Trying: (0, 0, 0, 0)  Return: 1  Last: None\n",
      "Trying: (0, 0, 0, 1)  Return: 1  Last: 1\n",
      "Trying: (0, 0, 1, 0)  Return: 0  Last: 1\n",
      "Balanced\n"
     ]
    }
   ],
   "source": [
    "# Test if balanced.\n",
    "balanced_or_constant(f, n)"
   ]
  },
  {
   "cell_type": "markdown",
   "id": "7ac751b6-8554-4396-8879-0a3bfe1509b2",
   "metadata": {},
   "source": [
    "***"
   ]
  },
  {
   "cell_type": "markdown",
   "id": "aaba40e6-2f74-4f0d-bbc7-d319653e56af",
   "metadata": {},
   "source": [
    "### Qiskit application"
   ]
  },
  {
   "cell_type": "code",
   "execution_count": null,
   "id": "f9997543-11e3-45c8-b27b-34b49689229d",
   "metadata": {},
   "outputs": [],
   "source": []
  },
  {
   "cell_type": "markdown",
   "id": "f66aa32d-3e28-4313-95b7-a882de22deb5",
   "metadata": {},
   "source": [
    "## Conclusions\n",
    "***"
   ]
  },
  {
   "cell_type": "code",
   "execution_count": null,
   "id": "4b54473f-defb-4cba-a543-25e565bafca6",
   "metadata": {},
   "outputs": [],
   "source": []
  },
  {
   "cell_type": "code",
   "execution_count": null,
   "id": "6dcd1a4a-e206-4ac3-a89c-9bd5f622a090",
   "metadata": {},
   "outputs": [],
   "source": []
  },
  {
   "cell_type": "markdown",
   "id": "41dd7e7c-a175-4ebd-9af5-6af99fcfcb5d",
   "metadata": {},
   "source": [
    "# References\n",
    "***"
   ]
  },
  {
   "cell_type": "markdown",
   "id": "f7fd6ffb-7074-42b7-ad4b-dc1768598d1e",
   "metadata": {},
   "source": [
    "[1] Walker, K., 2022. How Quantum Computing Works. [online] Inverse.\n",
    "\n",
    "Available at: <https://www.inverse.com/article/8966-how-quantum-computing-works> [Accessed 1 January 2022].\n",
    "\n",
    "[2] Subramanian, R., 2022. 10 Differences between Classical computing and Quantum computing. [online] Medium. \n",
    "\n",
    "Available at: <https://rajprasathsubramanian89.medium.com/10-difference-between-classical-computing-and-quantum-computing-5e1777aa590d> [Accessed 1 January 2022].\n",
    "\n",
    "[3] Deutsch, D., 2022. About Me – David Deutsch. [online] Daviddeutsch.org.uk. \n",
    "\n",
    "Available at: <https://www.daviddeutsch.org.uk/about-me/> [Accessed 1 January 2022]."
   ]
  },
  {
   "cell_type": "markdown",
   "id": "6943d06f-c667-4b23-95db-ec58f44082a0",
   "metadata": {},
   "source": [
    "# Resources\n",
    "***"
   ]
  },
  {
   "cell_type": "code",
   "execution_count": null,
   "id": "e987e9f3-4eea-4346-bc4a-ad869656a43d",
   "metadata": {},
   "outputs": [],
   "source": []
  }
 ],
 "metadata": {
  "kernelspec": {
   "display_name": "Python 3",
   "language": "python",
   "name": "python3"
  },
  "language_info": {
   "codemirror_mode": {
    "name": "ipython",
    "version": 3
   },
   "file_extension": ".py",
   "mimetype": "text/x-python",
   "name": "python",
   "nbconvert_exporter": "python",
   "pygments_lexer": "ipython3",
   "version": "3.8.8"
  }
 },
 "nbformat": 4,
 "nbformat_minor": 5
}
